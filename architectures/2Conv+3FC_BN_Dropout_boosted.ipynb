{
 "cells": [
  {
   "cell_type": "code",
   "execution_count": null,
   "metadata": {},
   "outputs": [],
   "source": [
    "from __future__ import print_function\n",
    "import numpy as np\n",
    "from keras.models import load_model"
   ]
  },
  {
   "cell_type": "code",
   "execution_count": 16,
   "metadata": {},
   "outputs": [],
   "source": [
    "import urllib\n",
    "import scipy.optimize\n",
    "import random\n",
    "from collections import defaultdict\n",
    "import string\n",
    "from sklearn.metrics import accuracy_score ,confusion_matrix\n",
    "import keras\n",
    "from keras.models import Sequential\n",
    "from keras.layers import Dense, Dropout, Activation, InputLayer, Flatten, Reshape\n",
    "from keras.layers.normalization import BatchNormalization\n",
    "from keras.optimizers import SGD\n",
    "import tensorflow as tf\n",
    "import os\n",
    "from matplotlib import pyplot\n",
    "import tools\n",
    "from keras.layers.convolutional import Conv2D, MaxPooling2D\n",
    "from keras.preprocessing.image import ImageDataGenerator, array_to_img, img_to_array, load_img"
   ]
  },
  {
   "cell_type": "code",
   "execution_count": 17,
   "metadata": {},
   "outputs": [],
   "source": [
    "config = tf.ConfigProto( device_count = {'GPU': 1 , 'CPU': 56} ) \n",
    "sess = tf.Session(config=config) \n",
    "keras.backend.set_session(sess)\n"
   ]
  },
  {
   "cell_type": "markdown",
   "metadata": {},
   "source": [
    "### Load Data"
   ]
  },
  {
   "cell_type": "code",
   "execution_count": 18,
   "metadata": {},
   "outputs": [],
   "source": [
    "xtrain,ltrain = tools.load(dataset = \"training\", path = \"./FashionMNIST\")\n",
    "xtest, ltest  = tools.load(dataset = \"testing\",  path = \"./FashionMNIST\")"
   ]
  },
  {
   "cell_type": "markdown",
   "metadata": {},
   "source": [
    "### Normalization"
   ]
  },
  {
   "cell_type": "code",
   "execution_count": 19,
   "metadata": {},
   "outputs": [],
   "source": [
    "def normalize_MNIST_images(x):\n",
    "    x = x.astype('float64')\n",
    "    x = x*((2.0/255))-1\n",
    "    return x\n",
    "\n",
    "def label2onehot(lbl):\n",
    "    d = np.zeros((lbl.max() + 1, lbl.size))\n",
    "    d[lbl, np.arange(0, lbl.size)] = 1\n",
    "    return d"
   ]
  },
  {
   "cell_type": "code",
   "execution_count": 20,
   "metadata": {},
   "outputs": [],
   "source": [
    "xtrain = normalize_MNIST_images(xtrain)\n",
    "xtest = normalize_MNIST_images(xtest)"
   ]
  },
  {
   "cell_type": "code",
   "execution_count": 21,
   "metadata": {},
   "outputs": [],
   "source": [
    "dtrain = label2onehot(ltrain)\n",
    "dtest = label2onehot(ltest)"
   ]
  },
  {
   "cell_type": "code",
   "execution_count": null,
   "metadata": {},
   "outputs": [],
   "source": []
  },
  {
   "cell_type": "code",
   "execution_count": 22,
   "metadata": {},
   "outputs": [],
   "source": [
    "xtrain=xtrain.reshape(28, 28, 1, 60000)\n",
    "xtest=xtest.reshape(28, 28, 1, 10000)"
   ]
  },
  {
   "cell_type": "code",
   "execution_count": 25,
   "metadata": {},
   "outputs": [],
   "source": [
    "xtrain = np.moveaxis(xtrain, [3] ,[0])\n",
    "xtest = np.moveaxis(xtest, [3] ,[0])"
   ]
  },
  {
   "cell_type": "markdown",
   "metadata": {},
   "source": [
    "### 1st Net"
   ]
  },
  {
   "cell_type": "code",
   "execution_count": 29,
   "metadata": {},
   "outputs": [
    {
     "name": "stdout",
     "output_type": "stream",
     "text": [
      "_________________________________________________________________\n",
      "Layer (type)                 Output Shape              Param #   \n",
      "=================================================================\n",
      "input_1 (InputLayer)         (None, 28, 28, 1)         0         \n",
      "_________________________________________________________________\n",
      "batch_normalization_1 (Batch (None, 28, 28, 1)         4         \n",
      "_________________________________________________________________\n",
      "conv2d_1 (Conv2D)            (None, 24, 24, 64)        1664      \n",
      "_________________________________________________________________\n",
      "max_pooling2d_1 (MaxPooling2 (None, 12, 12, 64)        0         \n",
      "_________________________________________________________________\n",
      "batch_normalization_2 (Batch (None, 12, 12, 64)        256       \n",
      "_________________________________________________________________\n",
      "conv2d_2 (Conv2D)            (None, 8, 8, 512)         819712    \n",
      "_________________________________________________________________\n",
      "max_pooling2d_2 (MaxPooling2 (None, 4, 4, 512)         0         \n",
      "_________________________________________________________________\n",
      "flatten_1 (Flatten)          (None, 8192)              0         \n",
      "_________________________________________________________________\n",
      "dense_1 (Dense)              (None, 128)               1048704   \n",
      "_________________________________________________________________\n",
      "dropout_1 (Dropout)          (None, 128)               0         \n",
      "_________________________________________________________________\n",
      "dense_2 (Dense)              (None, 64)                8256      \n",
      "_________________________________________________________________\n",
      "dropout_2 (Dropout)          (None, 64)                0         \n",
      "_________________________________________________________________\n",
      "dense_3 (Dense)              (None, 10)                650       \n",
      "=================================================================\n",
      "Total params: 1,879,246\n",
      "Trainable params: 1,879,116\n",
      "Non-trainable params: 130\n",
      "_________________________________________________________________\n",
      "None\n"
     ]
    }
   ],
   "source": [
    "model = Sequential()\n",
    "\n",
    "model.add(InputLayer(input_shape=( 28, 28, 1)))\n",
    "model.add(BatchNormalization())\n",
    "model.add(Conv2D(64, (5, 5), input_shape = ( 60000, 28, 28, 1), activation = 'relu',bias_initializer='RandomNormal', kernel_initializer='random_uniform'))\n",
    "model.add(MaxPooling2D(pool_size=(2, 2)))\n",
    "model.add(BatchNormalization())\n",
    "model.add(Conv2D(512, (5, 5), activation = 'relu'))\n",
    "model.add(MaxPooling2D(pool_size=(2, 2)))\n",
    "model.add(Flatten())\n",
    "model.add(Dense(128, activation='relu'))\n",
    "model.add(Dropout(0.35))\n",
    "model.add(Dense(64, activation='relu'))\n",
    "model.add(Dropout(0.35))\n",
    "model.add(Dense(10, activation='softmax'))\n",
    "\n",
    "print(model.summary())"
   ]
  },
  {
   "cell_type": "code",
   "execution_count": 30,
   "metadata": {},
   "outputs": [],
   "source": [
    "from keras.optimizers import Adam\n",
    "opt = Adam(decay=0.001)"
   ]
  },
  {
   "cell_type": "code",
   "execution_count": 31,
   "metadata": {},
   "outputs": [],
   "source": [
    "model.compile(optimizer=opt,\n",
    "              loss='categorical_crossentropy',\n",
    "              metrics=['accuracy'])"
   ]
  },
  {
   "cell_type": "code",
   "execution_count": 34,
   "metadata": {},
   "outputs": [
    {
     "name": "stdout",
     "output_type": "stream",
     "text": [
      "Train on 48000 samples, validate on 12000 samples\n",
      "Epoch 1/20\n",
      "48000/48000 [==============================] - 14s 287us/step - loss: 0.7184 - acc: 0.7498 - val_loss: 0.3620 - val_acc: 0.8766\n",
      "Epoch 2/20\n",
      "48000/48000 [==============================] - 11s 230us/step - loss: 0.4210 - acc: 0.8565 - val_loss: 0.3032 - val_acc: 0.8892\n",
      "Epoch 3/20\n",
      "48000/48000 [==============================] - 11s 229us/step - loss: 0.3449 - acc: 0.8838 - val_loss: 0.2769 - val_acc: 0.9010\n",
      "Epoch 4/20\n",
      "48000/48000 [==============================] - 11s 229us/step - loss: 0.2946 - acc: 0.8981 - val_loss: 0.2530 - val_acc: 0.9097\n",
      "Epoch 5/20\n",
      "48000/48000 [==============================] - 11s 229us/step - loss: 0.2553 - acc: 0.9119 - val_loss: 0.2604 - val_acc: 0.9092\n",
      "Epoch 6/20\n",
      "48000/48000 [==============================] - 11s 230us/step - loss: 0.2239 - acc: 0.9249 - val_loss: 0.2343 - val_acc: 0.9193\n",
      "Epoch 7/20\n",
      "48000/48000 [==============================] - 11s 226us/step - loss: 0.1973 - acc: 0.9319 - val_loss: 0.2352 - val_acc: 0.9213\n",
      "Epoch 8/20\n",
      "48000/48000 [==============================] - 11s 232us/step - loss: 0.1764 - acc: 0.9404 - val_loss: 0.2325 - val_acc: 0.9197\n",
      "Epoch 9/20\n",
      "48000/48000 [==============================] - 11s 228us/step - loss: 0.1585 - acc: 0.9457 - val_loss: 0.2492 - val_acc: 0.9207\n",
      "Epoch 10/20\n",
      "48000/48000 [==============================] - 11s 232us/step - loss: 0.1425 - acc: 0.9522 - val_loss: 0.2438 - val_acc: 0.9210\n",
      "Epoch 11/20\n",
      "48000/48000 [==============================] - 11s 234us/step - loss: 0.1232 - acc: 0.9579 - val_loss: 0.2582 - val_acc: 0.9228\n",
      "Epoch 12/20\n",
      "48000/48000 [==============================] - 11s 236us/step - loss: 0.1139 - acc: 0.9617 - val_loss: 0.2628 - val_acc: 0.9242\n",
      "Epoch 13/20\n",
      "48000/48000 [==============================] - 11s 234us/step - loss: 0.1017 - acc: 0.9643 - val_loss: 0.2694 - val_acc: 0.9241\n",
      "Epoch 14/20\n",
      "48000/48000 [==============================] - 11s 236us/step - loss: 0.0891 - acc: 0.9690 - val_loss: 0.2663 - val_acc: 0.9257\n",
      "Epoch 15/20\n",
      "48000/48000 [==============================] - 11s 235us/step - loss: 0.0838 - acc: 0.9716 - val_loss: 0.2858 - val_acc: 0.9249\n",
      "Epoch 16/20\n",
      "48000/48000 [==============================] - 11s 235us/step - loss: 0.0749 - acc: 0.9746 - val_loss: 0.2935 - val_acc: 0.9249\n",
      "Epoch 17/20\n",
      "48000/48000 [==============================] - 11s 233us/step - loss: 0.0669 - acc: 0.9775 - val_loss: 0.3130 - val_acc: 0.9270\n",
      "Epoch 18/20\n",
      "48000/48000 [==============================] - 11s 233us/step - loss: 0.0602 - acc: 0.9805 - val_loss: 0.3269 - val_acc: 0.9239\n",
      "Epoch 19/20\n",
      "48000/48000 [==============================] - 11s 228us/step - loss: 0.0567 - acc: 0.9810 - val_loss: 0.3318 - val_acc: 0.9249\n",
      "Epoch 20/20\n",
      "48000/48000 [==============================] - 11s 231us/step - loss: 0.0537 - acc: 0.9815 - val_loss: 0.3477 - val_acc: 0.9259\n"
     ]
    }
   ],
   "source": [
    "import time\n",
    "start_time = time.time()\n",
    "epochs=20\n",
    "batch_size=64\n",
    "training = model.fit(xtrain, dtrain.T,\n",
    "                     epochs=epochs,\n",
    "                     batch_size=batch_size, \n",
    "                     verbose=1, validation_split=0.2)\n",
    "training_time = time.time() - start_time"
   ]
  },
  {
   "cell_type": "markdown",
   "metadata": {},
   "source": [
    "### Save the model"
   ]
  },
  {
   "cell_type": "code",
   "execution_count": 21,
   "metadata": {},
   "outputs": [],
   "source": [
    "model.save('./models/net_1.h5') "
   ]
  },
  {
   "cell_type": "code",
   "execution_count": 2,
   "metadata": {},
   "outputs": [],
   "source": [
    "#model = load_model('./models/net_1.h5')"
   ]
  },
  {
   "cell_type": "code",
   "execution_count": 35,
   "metadata": {},
   "outputs": [],
   "source": [
    "import matplotlib.pyplot as plt\n",
    "plt.rcParams['figure.figsize'] = (6,6)"
   ]
  },
  {
   "cell_type": "code",
   "execution_count": 36,
   "metadata": {},
   "outputs": [
    {
     "data": {
      "image/png": "[encoded data removed]",
      "text/plain": [
       "<Figure size 432x432 with 1 Axes>"
      ]
     },
     "metadata": {},
     "output_type": "display_data"
    }
   ],
   "source": [
    "acc = training.history['acc'][0:20]\n",
    "val_acc = training.history['val_acc'][0:20]\n",
    "loss = training.history['loss'][0:20]\n",
    "val_loss = training.history['val_loss'][0:20]\n",
    "epochs = range(1, len(acc) + 1)\n",
    "\n",
    "\n",
    "plt.title('Training and validation loss')\n",
    "plt.plot(epochs, loss, 'red', label='Training loss')\n",
    "plt.plot(epochs, val_loss, 'blue', label='Validation loss')\n",
    "plt.legend()\n",
    "\n",
    "plt.show()"
   ]
  },
  {
   "cell_type": "code",
   "execution_count": 23,
   "metadata": {},
   "outputs": [
    {
     "data": {
      "image/png": "[encoded data removed]",
      "text/plain": [
       "<Figure size 432x432 with 1 Axes>"
      ]
     },
     "metadata": {},
     "output_type": "display_data"
    }
   ],
   "source": [
    "acc = training.history['acc'][0:20]\n",
    "val_acc = training.history['val_acc'][0:20]\n",
    "loss = training.history['loss'][0:20]\n",
    "val_loss = training.history['val_loss'][0:20]\n",
    "epochs = range(1, len(acc) + 1)\n",
    "\n",
    "plt.title('Training and validation accuracy')\n",
    "plt.plot(epochs, acc, 'red', label='Training acc')\n",
    "plt.plot(epochs, val_acc, 'blue', label='Validation acc')\n",
    "plt.legend()\n",
    "\n",
    "plt.show()"
   ]
  },
  {
   "cell_type": "markdown",
   "metadata": {},
   "source": [
    "#### Test data"
   ]
  },
  {
   "cell_type": "code",
   "execution_count": 25,
   "metadata": {},
   "outputs": [
    {
     "name": "stdout",
     "output_type": "stream",
     "text": [
      "10000/10000 [==============================] - 1s 107us/step\n"
     ]
    },
    {
     "data": {
      "text/plain": [
       "[0.35401645753532646, 0.919]"
      ]
     },
     "execution_count": 25,
     "metadata": {},
     "output_type": "execute_result"
    }
   ],
   "source": [
    "model.evaluate(xtest, dtest.T)"
   ]
  },
  {
   "cell_type": "code",
   "execution_count": null,
   "metadata": {},
   "outputs": [],
   "source": []
  },
  {
   "cell_type": "markdown",
   "metadata": {},
   "source": [
    "### 2nd Net"
   ]
  },
  {
   "cell_type": "code",
   "execution_count": 26,
   "metadata": {},
   "outputs": [
    {
     "name": "stdout",
     "output_type": "stream",
     "text": [
      "training data for 2nd net:  7152\n"
     ]
    }
   ],
   "source": [
    "predTrain_np=model.predict(xtrain).T.argmax(axis=0)\n",
    "error_idx=np.where(predTrain_np!=ltrain)[0]\n",
    "correct_idx=np.where(predTrain_np==ltrain)[0]\n",
    "n_errors=error_idx.shape[0]\n",
    "np.random.seed(26)\n",
    "sample=np.random.choice(correct_idx, 4*n_errors, replace=False)\n",
    "idx2 = np.concatenate((error_idx, error_idx, sample)) \n",
    "np.random.shuffle(idx2)\n",
    "print('training data for 2nd net: ', len(idx2))"
   ]
  },
  {
   "cell_type": "code",
   "execution_count": 27,
   "metadata": {},
   "outputs": [],
   "source": [
    "xtrain2=xtrain[idx2]\n",
    "ltrain2=ltrain[idx2]"
   ]
  },
  {
   "cell_type": "code",
   "execution_count": 28,
   "metadata": {},
   "outputs": [],
   "source": [
    "dtrain2 = label2onehot(ltrain2)"
   ]
  },
  {
   "cell_type": "code",
   "execution_count": 29,
   "metadata": {},
   "outputs": [
    {
     "data": {
      "text/plain": [
       "(1, 28, 28, 1)"
      ]
     },
     "execution_count": 29,
     "metadata": {},
     "output_type": "execute_result"
    }
   ],
   "source": [
    "xtrain[0].reshape(1,28,28,1).shape"
   ]
  },
  {
   "cell_type": "code",
   "execution_count": 32,
   "metadata": {},
   "outputs": [
    {
     "data": {
      "text/plain": [
       "array([9])"
      ]
     },
     "execution_count": 32,
     "metadata": {},
     "output_type": "execute_result"
    }
   ],
   "source": [
    "model.predict(xtrain[0].reshape(1,28,28,1)).T.argmax(axis=0)"
   ]
  },
  {
   "cell_type": "code",
   "execution_count": 30,
   "metadata": {},
   "outputs": [
    {
     "name": "stdout",
     "output_type": "stream",
     "text": [
      "_________________________________________________________________\n",
      "Layer (type)                 Output Shape              Param #   \n",
      "=================================================================\n",
      "input_2 (InputLayer)         (None, 28, 28, 1)         0         \n",
      "_________________________________________________________________\n",
      "batch_normalization_3 (Batch (None, 28, 28, 1)         4         \n",
      "_________________________________________________________________\n",
      "conv2d_3 (Conv2D)            (None, 24, 24, 64)        1664      \n",
      "_________________________________________________________________\n",
      "max_pooling2d_3 (MaxPooling2 (None, 12, 12, 64)        0         \n",
      "_________________________________________________________________\n",
      "batch_normalization_4 (Batch (None, 12, 12, 64)        256       \n",
      "_________________________________________________________________\n",
      "conv2d_4 (Conv2D)            (None, 8, 8, 512)         819712    \n",
      "_________________________________________________________________\n",
      "max_pooling2d_4 (MaxPooling2 (None, 4, 4, 512)         0         \n",
      "_________________________________________________________________\n",
      "flatten_2 (Flatten)          (None, 8192)              0         \n",
      "_________________________________________________________________\n",
      "dense_4 (Dense)              (None, 128)               1048704   \n",
      "_________________________________________________________________\n",
      "dropout_3 (Dropout)          (None, 128)               0         \n",
      "_________________________________________________________________\n",
      "dense_5 (Dense)              (None, 64)                8256      \n",
      "_________________________________________________________________\n",
      "dropout_4 (Dropout)          (None, 64)                0         \n",
      "_________________________________________________________________\n",
      "dense_6 (Dense)              (None, 10)                650       \n",
      "=================================================================\n",
      "Total params: 1,879,246\n",
      "Trainable params: 1,879,116\n",
      "Non-trainable params: 130\n",
      "_________________________________________________________________\n",
      "None\n"
     ]
    }
   ],
   "source": [
    "net2 = Sequential()\n",
    "\n",
    "net2.add(InputLayer(input_shape=( 28, 28, 1)))\n",
    "net2.add(BatchNormalization())\n",
    "net2.add(Conv2D(64, (5, 5), input_shape = ( 60000, 28, 28, 1), activation = 'relu',bias_initializer='RandomNormal', kernel_initializer='random_uniform'))\n",
    "net2.add(MaxPooling2D(pool_size=(2, 2)))\n",
    "net2.add(BatchNormalization())\n",
    "net2.add(Conv2D(512, (5, 5), activation = 'relu'))\n",
    "net2.add(MaxPooling2D(pool_size=(2, 2)))\n",
    "net2.add(Flatten())\n",
    "net2.add(Dense(128, activation='relu'))\n",
    "net2.add(Dropout(0.35))\n",
    "net2.add(Dense(64, activation='relu'))\n",
    "net2.add(Dropout(0.35))\n",
    "net2.add(Dense(10, activation='softmax'))\n",
    "\n",
    "print(net2.summary())"
   ]
  },
  {
   "cell_type": "code",
   "execution_count": 31,
   "metadata": {},
   "outputs": [],
   "source": [
    "net2.compile(optimizer=opt,\n",
    "              loss='categorical_crossentropy',\n",
    "              metrics=['accuracy'])"
   ]
  },
  {
   "cell_type": "code",
   "execution_count": 32,
   "metadata": {},
   "outputs": [
    {
     "name": "stdout",
     "output_type": "stream",
     "text": [
      "Train on 5721 samples, validate on 1431 samples\n",
      "Epoch 1/20\n",
      "5721/5721 [==============================] - 2s 317us/step - loss: 1.4918 - acc: 0.4569 - val_loss: 0.9669 - val_acc: 0.6191\n",
      "Epoch 2/20\n",
      "5721/5721 [==============================] - 1s 192us/step - loss: 1.2024 - acc: 0.5525 - val_loss: 0.9172 - val_acc: 0.6471\n",
      "Epoch 3/20\n",
      "5721/5721 [==============================] - 1s 186us/step - loss: 1.0883 - acc: 0.5828 - val_loss: 0.8366 - val_acc: 0.6688\n",
      "Epoch 4/20\n",
      "5721/5721 [==============================] - 1s 191us/step - loss: 1.0076 - acc: 0.6212 - val_loss: 0.8005 - val_acc: 0.6751\n",
      "Epoch 5/20\n",
      "5721/5721 [==============================] - 1s 182us/step - loss: 0.9675 - acc: 0.6298 - val_loss: 0.7779 - val_acc: 0.6730\n",
      "Epoch 6/20\n",
      "5721/5721 [==============================] - 1s 179us/step - loss: 0.9055 - acc: 0.6565 - val_loss: 0.7759 - val_acc: 0.6869\n",
      "Epoch 7/20\n",
      "5721/5721 [==============================] - 1s 184us/step - loss: 0.8748 - acc: 0.6621 - val_loss: 0.7274 - val_acc: 0.7128\n",
      "Epoch 8/20\n",
      "5721/5721 [==============================] - 1s 184us/step - loss: 0.8245 - acc: 0.6822 - val_loss: 0.7371 - val_acc: 0.7051\n",
      "Epoch 9/20\n",
      "5721/5721 [==============================] - 1s 183us/step - loss: 0.7996 - acc: 0.6950 - val_loss: 0.6935 - val_acc: 0.7191\n",
      "Epoch 10/20\n",
      "5721/5721 [==============================] - 1s 183us/step - loss: 0.7539 - acc: 0.7121 - val_loss: 0.6823 - val_acc: 0.7372\n",
      "Epoch 11/20\n",
      "5721/5721 [==============================] - 1s 183us/step - loss: 0.7190 - acc: 0.7228 - val_loss: 0.6651 - val_acc: 0.7310\n",
      "Epoch 12/20\n",
      "5721/5721 [==============================] - 1s 185us/step - loss: 0.6924 - acc: 0.7315 - val_loss: 0.6701 - val_acc: 0.7247\n",
      "Epoch 13/20\n",
      "5721/5721 [==============================] - 1s 185us/step - loss: 0.6778 - acc: 0.7341 - val_loss: 0.6287 - val_acc: 0.7491\n",
      "Epoch 14/20\n",
      "5721/5721 [==============================] - 1s 182us/step - loss: 0.6398 - acc: 0.7593 - val_loss: 0.6179 - val_acc: 0.7519\n",
      "Epoch 15/20\n",
      "5721/5721 [==============================] - 1s 181us/step - loss: 0.6142 - acc: 0.7710 - val_loss: 0.5960 - val_acc: 0.7701\n",
      "Epoch 16/20\n",
      "5721/5721 [==============================] - 1s 182us/step - loss: 0.5842 - acc: 0.7850 - val_loss: 0.6121 - val_acc: 0.7638\n",
      "Epoch 17/20\n",
      "5721/5721 [==============================] - 1s 182us/step - loss: 0.5584 - acc: 0.7985 - val_loss: 0.6038 - val_acc: 0.7652\n",
      "Epoch 18/20\n",
      "5721/5721 [==============================] - 1s 184us/step - loss: 0.5366 - acc: 0.8007 - val_loss: 0.5731 - val_acc: 0.7855\n",
      "Epoch 19/20\n",
      "5721/5721 [==============================] - 1s 182us/step - loss: 0.5170 - acc: 0.8161 - val_loss: 0.5558 - val_acc: 0.7806\n",
      "Epoch 20/20\n",
      "5721/5721 [==============================] - 1s 181us/step - loss: 0.4934 - acc: 0.8193 - val_loss: 0.5960 - val_acc: 0.7631\n"
     ]
    }
   ],
   "source": [
    "import time\n",
    "start_time = time.time()\n",
    "epochs=20\n",
    "batch_size=64\n",
    "training = net2.fit(xtrain2, dtrain2.T,\n",
    "                     epochs=epochs,\n",
    "                     batch_size=batch_size, \n",
    "                     verbose=1, validation_split=0.2)\n",
    "training_time = time.time() - start_time"
   ]
  },
  {
   "cell_type": "code",
   "execution_count": 42,
   "metadata": {},
   "outputs": [],
   "source": [
    "net2.save('./models/net_2.h5') "
   ]
  },
  {
   "cell_type": "code",
   "execution_count": 34,
   "metadata": {},
   "outputs": [
    {
     "name": "stdout",
     "output_type": "stream",
     "text": [
      "10000/10000 [==============================] - 1s 95us/step\n"
     ]
    },
    {
     "data": {
      "text/plain": [
       "[0.47243389432430266, 0.8244]"
      ]
     },
     "execution_count": 34,
     "metadata": {},
     "output_type": "execute_result"
    }
   ],
   "source": [
    "net2.evaluate(xtest, dtest.T)"
   ]
  },
  {
   "cell_type": "markdown",
   "metadata": {},
   "source": [
    "### 3rd Net"
   ]
  },
  {
   "cell_type": "code",
   "execution_count": 35,
   "metadata": {},
   "outputs": [],
   "source": [
    "predTrain1 = model.predict(xtrain).T.argmax(axis=0)\n",
    "predTrain2 = net2.predict(xtrain).T.argmax(axis=0)"
   ]
  },
  {
   "cell_type": "code",
   "execution_count": null,
   "metadata": {},
   "outputs": [],
   "source": []
  },
  {
   "cell_type": "code",
   "execution_count": 36,
   "metadata": {},
   "outputs": [
    {
     "name": "stdout",
     "output_type": "stream",
     "text": [
      "9977 19954\n",
      "training data for 3rd net:  29931\n"
     ]
    }
   ],
   "source": [
    "error_idx3=np.where(predTrain1!=predTrain2)[0]             # where net1 and net2 disagree\n",
    "correct_idx3=np.where(predTrain1==predTrain2)[0]\n",
    "n_errors3=error_idx3.shape[0]\n",
    "np.random.seed(26)\n",
    "sample=np.random.choice(correct_idx3, 2*n_errors3, replace=False)\n",
    "print(n_errors3, len(sample))\n",
    "idx3 = np.concatenate((error_idx3, sample))       # total 3*n_errors\n",
    "np.random.shuffle(idx3)\n",
    "print('training data for 3rd net: ', len(idx3))"
   ]
  },
  {
   "cell_type": "code",
   "execution_count": 37,
   "metadata": {},
   "outputs": [],
   "source": [
    "xtrain3=xtrain[idx3]\n",
    "ltrain3=ltrain[idx3]"
   ]
  },
  {
   "cell_type": "code",
   "execution_count": 38,
   "metadata": {},
   "outputs": [],
   "source": [
    "dtrain3 = label2onehot(ltrain3)"
   ]
  },
  {
   "cell_type": "code",
   "execution_count": 39,
   "metadata": {},
   "outputs": [
    {
     "name": "stdout",
     "output_type": "stream",
     "text": [
      "_________________________________________________________________\n",
      "Layer (type)                 Output Shape              Param #   \n",
      "=================================================================\n",
      "input_2 (InputLayer)         (None, 28, 28, 1)         0         \n",
      "_________________________________________________________________\n",
      "batch_normalization_3 (Batch (None, 28, 28, 1)         4         \n",
      "_________________________________________________________________\n",
      "conv2d_3 (Conv2D)            (None, 24, 24, 64)        1664      \n",
      "_________________________________________________________________\n",
      "max_pooling2d_3 (MaxPooling2 (None, 12, 12, 64)        0         \n",
      "_________________________________________________________________\n",
      "batch_normalization_4 (Batch (None, 12, 12, 64)        256       \n",
      "_________________________________________________________________\n",
      "conv2d_4 (Conv2D)            (None, 8, 8, 512)         819712    \n",
      "_________________________________________________________________\n",
      "max_pooling2d_4 (MaxPooling2 (None, 4, 4, 512)         0         \n",
      "_________________________________________________________________\n",
      "flatten_2 (Flatten)          (None, 8192)              0         \n",
      "_________________________________________________________________\n",
      "dense_4 (Dense)              (None, 128)               1048704   \n",
      "_________________________________________________________________\n",
      "dropout_3 (Dropout)          (None, 128)               0         \n",
      "_________________________________________________________________\n",
      "dense_5 (Dense)              (None, 64)                8256      \n",
      "_________________________________________________________________\n",
      "dropout_4 (Dropout)          (None, 64)                0         \n",
      "_________________________________________________________________\n",
      "dense_6 (Dense)              (None, 10)                650       \n",
      "=================================================================\n",
      "Total params: 1,879,246\n",
      "Trainable params: 1,879,116\n",
      "Non-trainable params: 130\n",
      "_________________________________________________________________\n",
      "None\n"
     ]
    }
   ],
   "source": [
    "net3 = Sequential()\n",
    "\n",
    "net3.add(InputLayer(input_shape=( 28, 28, 1)))\n",
    "net3.add(BatchNormalization())\n",
    "net3.add(Conv2D(64, (5, 5), input_shape = ( 60000, 28, 28, 1), activation = 'relu',bias_initializer='RandomNormal', kernel_initializer='random_uniform'))\n",
    "net3.add(MaxPooling2D(pool_size=(2, 2)))\n",
    "net3.add(BatchNormalization())\n",
    "net3.add(Conv2D(512, (5, 5), activation = 'relu'))\n",
    "net3.add(MaxPooling2D(pool_size=(2, 2)))\n",
    "net3.add(Flatten())\n",
    "net3.add(Dense(128, activation='relu'))\n",
    "net3.add(Dropout(0.35))\n",
    "net3.add(Dense(64, activation='relu'))\n",
    "net3.add(Dropout(0.35))\n",
    "net3.add(Dense(10, activation='softmax'))\n",
    "\n",
    "print(net2.summary())"
   ]
  },
  {
   "cell_type": "code",
   "execution_count": 40,
   "metadata": {},
   "outputs": [],
   "source": [
    "net3.compile(optimizer=opt,\n",
    "              loss='categorical_crossentropy',\n",
    "              metrics=['accuracy'])"
   ]
  },
  {
   "cell_type": "code",
   "execution_count": null,
   "metadata": {},
   "outputs": [],
   "source": []
  },
  {
   "cell_type": "code",
   "execution_count": 41,
   "metadata": {},
   "outputs": [
    {
     "name": "stdout",
     "output_type": "stream",
     "text": [
      "Train on 23944 samples, validate on 5987 samples\n",
      "Epoch 1/20\n",
      "23944/23944 [==============================] - 5s 226us/step - loss: 1.0539 - acc: 0.6230 - val_loss: 0.6240 - val_acc: 0.7790\n",
      "Epoch 2/20\n",
      "23944/23944 [==============================] - 5s 193us/step - loss: 0.7683 - acc: 0.7225 - val_loss: 0.5304 - val_acc: 0.8109\n",
      "Epoch 3/20\n",
      "23944/23944 [==============================] - 5s 191us/step - loss: 0.6805 - acc: 0.7536 - val_loss: 0.4903 - val_acc: 0.8216\n",
      "Epoch 4/20\n",
      "23944/23944 [==============================] - 4s 187us/step - loss: 0.6258 - acc: 0.7744 - val_loss: 0.4614 - val_acc: 0.8310\n",
      "Epoch 5/20\n",
      "23944/23944 [==============================] - 4s 187us/step - loss: 0.5817 - acc: 0.7905 - val_loss: 0.4412 - val_acc: 0.8355\n",
      "Epoch 6/20\n",
      "23944/23944 [==============================] - 4s 187us/step - loss: 0.5448 - acc: 0.8014 - val_loss: 0.4295 - val_acc: 0.8432\n",
      "Epoch 7/20\n",
      "23944/23944 [==============================] - 4s 183us/step - loss: 0.5108 - acc: 0.8142 - val_loss: 0.4334 - val_acc: 0.8350\n",
      "Epoch 8/20\n",
      "23944/23944 [==============================] - 4s 184us/step - loss: 0.4870 - acc: 0.8242 - val_loss: 0.4146 - val_acc: 0.8417\n",
      "Epoch 9/20\n",
      "23944/23944 [==============================] - 5s 197us/step - loss: 0.4598 - acc: 0.8332 - val_loss: 0.3909 - val_acc: 0.8579\n",
      "Epoch 10/20\n",
      "23944/23944 [==============================] - 5s 197us/step - loss: 0.4399 - acc: 0.8428 - val_loss: 0.3910 - val_acc: 0.8574\n",
      "Epoch 11/20\n",
      "23944/23944 [==============================] - 5s 201us/step - loss: 0.4135 - acc: 0.8525 - val_loss: 0.3839 - val_acc: 0.8557\n",
      "Epoch 12/20\n",
      "23944/23944 [==============================] - 5s 193us/step - loss: 0.3885 - acc: 0.8619 - val_loss: 0.3810 - val_acc: 0.8577\n",
      "Epoch 13/20\n",
      "23944/23944 [==============================] - 5s 195us/step - loss: 0.3756 - acc: 0.8666 - val_loss: 0.3705 - val_acc: 0.8642\n",
      "Epoch 14/20\n",
      "23944/23944 [==============================] - 5s 202us/step - loss: 0.3588 - acc: 0.8733 - val_loss: 0.3725 - val_acc: 0.8627\n",
      "Epoch 15/20\n",
      "23944/23944 [==============================] - 5s 195us/step - loss: 0.3391 - acc: 0.8800 - val_loss: 0.3663 - val_acc: 0.8662\n",
      "Epoch 16/20\n",
      "23944/23944 [==============================] - 5s 203us/step - loss: 0.3232 - acc: 0.8874 - val_loss: 0.3660 - val_acc: 0.8677\n",
      "Epoch 17/20\n",
      "23944/23944 [==============================] - 5s 202us/step - loss: 0.3121 - acc: 0.8915 - val_loss: 0.3682 - val_acc: 0.8624\n",
      "Epoch 18/20\n",
      "23944/23944 [==============================] - 5s 197us/step - loss: 0.2964 - acc: 0.8958 - val_loss: 0.3771 - val_acc: 0.8617\n",
      "Epoch 19/20\n",
      "23944/23944 [==============================] - 5s 197us/step - loss: 0.2802 - acc: 0.9009 - val_loss: 0.3629 - val_acc: 0.8709\n",
      "Epoch 20/20\n",
      "23944/23944 [==============================] - 5s 197us/step - loss: 0.2659 - acc: 0.9074 - val_loss: 0.3588 - val_acc: 0.8749\n"
     ]
    }
   ],
   "source": [
    "import time\n",
    "start_time = time.time()\n",
    "epochs=20\n",
    "batch_size=64\n",
    "training = net3.fit(xtrain3, dtrain3.T,\n",
    "                     epochs=epochs,\n",
    "                     batch_size=batch_size, \n",
    "                     verbose=1, validation_split=0.2)\n",
    "training_time = time.time() - start_time"
   ]
  },
  {
   "cell_type": "markdown",
   "metadata": {},
   "source": [
    "### Save 3rd net"
   ]
  },
  {
   "cell_type": "code",
   "execution_count": 43,
   "metadata": {},
   "outputs": [],
   "source": [
    "net3.save('./models/net_3.h5') "
   ]
  },
  {
   "cell_type": "markdown",
   "metadata": {},
   "source": [
    "### Ensemble of the three nets"
   ]
  },
  {
   "cell_type": "code",
   "execution_count": 3,
   "metadata": {},
   "outputs": [],
   "source": [
    "def apply_ensembling(net1, net2, net3, data, labels):\n",
    "    pred1 = net1.predict(data)\n",
    "    pred2 = net2.predict(data)\n",
    "    pred3 = net3.predict(data)\n",
    "\n",
    "    predCombined=(pred1+pred2+pred3).T.argmax(axis=0)\n",
    "    print(np.mean(predCombined==labels), ' after adding all pred')\n",
    "    \n",
    "    pred1=np.exp(pred1)\n",
    "    pred1=pred1/pred1.sum(axis=1).reshape((len(pred3),1))\n",
    "    pred2=np.exp(pred2)\n",
    "    pred2=pred2/pred2.sum(axis=1).reshape((len(pred3),1))\n",
    "    pred3=np.exp(pred3)\n",
    "    pred3=pred3/pred3.sum(axis=1).reshape((len(pred3),1))\n",
    "    predCombined=(np.maximum(pred1,pred2,pred3)).T.argmax(axis=0)\n",
    "    print(np.mean(predCombined==labels), ' after max of all softmax')"
   ]
  },
  {
   "cell_type": "code",
   "execution_count": 52,
   "metadata": {},
   "outputs": [
    {
     "name": "stdout",
     "output_type": "stream",
     "text": [
      "0.9211  after adding all pred\n",
      "0.9216  after max of all softmax\n",
      "\n",
      "Training----------------------------------------\n",
      "0.9796  after adding all pred\n",
      "0.9827833333333333  after max of all softmax\n"
     ]
    }
   ],
   "source": [
    "apply_ensembling(model, net2, net3, xtest, ltest)\n",
    "print('\\nTraining----------------------------------------')\n",
    "apply_ensembling(model, net2, net3, xtrain, ltrain)"
   ]
  },
  {
   "cell_type": "code",
   "execution_count": null,
   "metadata": {},
   "outputs": [],
   "source": []
  },
  {
   "cell_type": "code",
   "execution_count": null,
   "metadata": {},
   "outputs": [],
   "source": []
  },
  {
   "cell_type": "code",
   "execution_count": null,
   "metadata": {},
   "outputs": [],
   "source": []
  },
  {
   "cell_type": "code",
   "execution_count": null,
   "metadata": {},
   "outputs": [],
   "source": []
  },
  {
   "cell_type": "code",
   "execution_count": null,
   "metadata": {},
   "outputs": [],
   "source": []
  },
  {
   "cell_type": "code",
   "execution_count": null,
   "metadata": {},
   "outputs": [],
   "source": []
  },
  {
   "cell_type": "code",
   "execution_count": null,
   "metadata": {},
   "outputs": [],
   "source": []
  }
 ],
 "metadata": {
  "kernelspec": {
   "display_name": "Python 2",
   "language": "python",
   "name": "python2"
  },
  "language_info": {
   "codemirror_mode": {
    "name": "ipython",
    "version": 2
   },
   "file_extension": ".py",
   "mimetype": "text/x-python",
   "name": "python",
   "nbconvert_exporter": "python",
   "pygments_lexer": "ipython2",
   "version": "2.7.14"
  }
 },
 "nbformat": 4,
 "nbformat_minor": 2
}
