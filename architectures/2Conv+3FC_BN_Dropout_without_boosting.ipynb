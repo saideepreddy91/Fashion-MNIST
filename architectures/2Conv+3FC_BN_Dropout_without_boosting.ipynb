{
 "cells": [
  {
   "cell_type": "code",
   "execution_count": 1,
   "metadata": {},
   "outputs": [],
   "source": [
    "from __future__ import print_function\n",
    "import numpy as np\n",
    "#import torch\n",
    "#import torch.autograd as ag"
   ]
  },
  {
   "cell_type": "code",
   "execution_count": null,
   "metadata": {},
   "outputs": [],
   "source": [
    "import urllib\n",
    "import scipy.optimize\n",
    "import random\n",
    "from collections import defaultdict\n",
    "import string\n",
    "from sklearn.metrics import accuracy_score ,confusion_matrix\n",
    "import keras\n",
    "from keras.models import Sequential\n",
    "from keras.layers import Dense, Dropout, Activation, InputLayer, Flatten, Reshape\n",
    "from keras.layers.normalization import BatchNormalization\n",
    "from keras.optimizers import SGD\n",
    "import tensorflow as tf\n",
    "import os\n",
    "from matplotlib import pyplot\n",
    "import tools\n",
    "from keras.layers.convolutional import Conv2D, MaxPooling2D\n",
    "from keras.preprocessing.image import ImageDataGenerator, array_to_img, img_to_array, load_img"
   ]
  },
  {
   "cell_type": "code",
   "execution_count": 3,
   "metadata": {},
   "outputs": [],
   "source": [
    "config = tf.ConfigProto( device_count = {'GPU': 1 , 'CPU': 56} ) \n",
    "sess = tf.Session(config=config) \n",
    "keras.backend.set_session(sess)\n"
   ]
  },
  {
   "cell_type": "markdown",
   "metadata": {},
   "source": [
    "### Load data"
   ]
  },
  {
   "cell_type": "code",
   "execution_count": 4,
   "metadata": {},
   "outputs": [],
   "source": [
    "xtrain,ltrain = tools.load(dataset = \"training\", path = \"./FashionMNIST\")\n",
    "xtest, ltest  = tools.load(dataset = \"testing\",  path = \"./FashionMNIST\")"
   ]
  },
  {
   "cell_type": "markdown",
   "metadata": {},
   "source": [
    "### Normalize "
   ]
  },
  {
   "cell_type": "code",
   "execution_count": 5,
   "metadata": {},
   "outputs": [],
   "source": [
    "def normalize_MNIST_images(x):\n",
    "    x = x.astype('float64')\n",
    "    x = x*((2.0/255))-1\n",
    "    return x\n",
    "\n",
    "def label2onehot(lbl):\n",
    "    d = np.zeros((lbl.max() + 1, lbl.size))\n",
    "    d[lbl, np.arange(0, lbl.size)] = 1\n",
    "    return d"
   ]
  },
  {
   "cell_type": "code",
   "execution_count": 7,
   "metadata": {},
   "outputs": [],
   "source": [
    "xtrain = normalize_MNIST_images(xtrain)\n",
    "xtest = normalize_MNIST_images(xtest)"
   ]
  },
  {
   "cell_type": "code",
   "execution_count": 8,
   "metadata": {},
   "outputs": [],
   "source": [
    "dtrain = label2onehot(ltrain)\n",
    "dtest = label2onehot(ltest)"
   ]
  },
  {
   "cell_type": "code",
   "execution_count": 9,
   "metadata": {},
   "outputs": [],
   "source": [
    "xtrain=xtrain.reshape(28, 28, 1, 60000)\n",
    "xtest=xtest.reshape(28, 28, 1, 10000)"
   ]
  },
  {
   "cell_type": "code",
   "execution_count": 10,
   "metadata": {},
   "outputs": [
    {
     "name": "stdout",
     "output_type": "stream",
     "text": [
      "(28, 28, 1, 60000)\n",
      "(28, 28, 1, 10000)\n"
     ]
    }
   ],
   "source": [
    "print (xtrain.shape)\n",
    "print (xtest.shape)"
   ]
  },
  {
   "cell_type": "code",
   "execution_count": 12,
   "metadata": {},
   "outputs": [],
   "source": [
    "xtrain = np.moveaxis(xtrain, [3] ,[0])\n",
    "xtest = np.moveaxis(xtest, [3] ,[0])"
   ]
  },
  {
   "cell_type": "code",
   "execution_count": 14,
   "metadata": {},
   "outputs": [
    {
     "name": "stdout",
     "output_type": "stream",
     "text": [
      "_________________________________________________________________\n",
      "Layer (type)                 Output Shape              Param #   \n",
      "=================================================================\n",
      "input_1 (InputLayer)         (None, 28, 28, 1)         0         \n",
      "_________________________________________________________________\n",
      "batch_normalization_1 (Batch (None, 28, 28, 1)         4         \n",
      "_________________________________________________________________\n",
      "conv2d_1 (Conv2D)            (None, 24, 24, 64)        1664      \n",
      "_________________________________________________________________\n",
      "max_pooling2d_1 (MaxPooling2 (None, 12, 12, 64)        0         \n",
      "_________________________________________________________________\n",
      "batch_normalization_2 (Batch (None, 12, 12, 64)        256       \n",
      "_________________________________________________________________\n",
      "conv2d_2 (Conv2D)            (None, 8, 8, 512)         819712    \n",
      "_________________________________________________________________\n",
      "max_pooling2d_2 (MaxPooling2 (None, 4, 4, 512)         0         \n",
      "_________________________________________________________________\n",
      "flatten_1 (Flatten)          (None, 8192)              0         \n",
      "_________________________________________________________________\n",
      "dense_1 (Dense)              (None, 128)               1048704   \n",
      "_________________________________________________________________\n",
      "dropout_1 (Dropout)          (None, 128)               0         \n",
      "_________________________________________________________________\n",
      "dense_2 (Dense)              (None, 64)                8256      \n",
      "_________________________________________________________________\n",
      "dropout_2 (Dropout)          (None, 64)                0         \n",
      "_________________________________________________________________\n",
      "dense_3 (Dense)              (None, 10)                650       \n",
      "=================================================================\n",
      "Total params: 1,879,246\n",
      "Trainable params: 1,879,116\n",
      "Non-trainable params: 130\n",
      "_________________________________________________________________\n",
      "None\n"
     ]
    }
   ],
   "source": [
    "model = Sequential()\n",
    "\n",
    "model.add(InputLayer(input_shape=( 28, 28, 1)))\n",
    "model.add(BatchNormalization())\n",
    "model.add(Conv2D(64, (5, 5), input_shape = ( 60000, 28, 28, 1), activation = 'relu',bias_initializer='RandomNormal', kernel_initializer='random_uniform'))\n",
    "model.add(MaxPooling2D(pool_size=(2, 2)))\n",
    "model.add(BatchNormalization())\n",
    "model.add(Conv2D(512, (5, 5), activation = 'relu'))\n",
    "model.add(MaxPooling2D(pool_size=(2, 2)))\n",
    "model.add(Flatten())\n",
    "model.add(Dense(128, activation='relu'))\n",
    "model.add(Dropout(0.35))\n",
    "model.add(Dense(64, activation='relu'))\n",
    "model.add(Dropout(0.35))\n",
    "model.add(Dense(10, activation='softmax'))\n",
    "\n",
    "print(model.summary())"
   ]
  },
  {
   "cell_type": "code",
   "execution_count": 15,
   "metadata": {},
   "outputs": [],
   "source": [
    "from keras.optimizers import Adam\n",
    "opt = Adam(decay=0.001)"
   ]
  },
  {
   "cell_type": "code",
   "execution_count": 16,
   "metadata": {},
   "outputs": [],
   "source": [
    "model.compile(optimizer=opt,\n",
    "              loss='categorical_crossentropy',\n",
    "              metrics=['accuracy'])"
   ]
  },
  {
   "cell_type": "code",
   "execution_count": 19,
   "metadata": {},
   "outputs": [
    {
     "name": "stdout",
     "output_type": "stream",
     "text": [
      "Train on 48000 samples, validate on 12000 samples\n",
      "Epoch 1/20\n",
      "48000/48000 [==============================] - 11s 234us/step - loss: 0.7517 - acc: 0.7375 - val_loss: 0.3770 - val_acc: 0.8722\n",
      "Epoch 2/20\n",
      "48000/48000 [==============================] - 9s 187us/step - loss: 0.4512 - acc: 0.8417 - val_loss: 0.3123 - val_acc: 0.8876\n",
      "Epoch 3/20\n",
      "48000/48000 [==============================] - 9s 188us/step - loss: 0.3748 - acc: 0.8700 - val_loss: 0.2761 - val_acc: 0.9025\n",
      "Epoch 4/20\n",
      "48000/48000 [==============================] - 9s 183us/step - loss: 0.3198 - acc: 0.8879 - val_loss: 0.2659 - val_acc: 0.9062\n",
      "Epoch 5/20\n",
      "48000/48000 [==============================] - 9s 183us/step - loss: 0.2865 - acc: 0.8982 - val_loss: 0.2655 - val_acc: 0.9084\n",
      "Epoch 6/20\n",
      "48000/48000 [==============================] - 9s 184us/step - loss: 0.2547 - acc: 0.9101 - val_loss: 0.2377 - val_acc: 0.9159\n",
      "Epoch 7/20\n",
      "48000/48000 [==============================] - 9s 185us/step - loss: 0.2263 - acc: 0.9195 - val_loss: 0.2427 - val_acc: 0.9158\n",
      "Epoch 8/20\n",
      "48000/48000 [==============================] - 9s 180us/step - loss: 0.2032 - acc: 0.9271 - val_loss: 0.2415 - val_acc: 0.9199\n",
      "Epoch 9/20\n",
      "48000/48000 [==============================] - 9s 183us/step - loss: 0.1873 - acc: 0.9334 - val_loss: 0.2403 - val_acc: 0.9193\n",
      "Epoch 10/20\n",
      "48000/48000 [==============================] - 9s 182us/step - loss: 0.1703 - acc: 0.9388 - val_loss: 0.2466 - val_acc: 0.9220\n",
      "Epoch 11/20\n",
      "48000/48000 [==============================] - 9s 182us/step - loss: 0.1544 - acc: 0.9447 - val_loss: 0.2509 - val_acc: 0.9207\n",
      "Epoch 12/20\n",
      "48000/48000 [==============================] - 9s 182us/step - loss: 0.1393 - acc: 0.9495 - val_loss: 0.2551 - val_acc: 0.9234\n",
      "Epoch 13/20\n",
      "48000/48000 [==============================] - 9s 180us/step - loss: 0.1305 - acc: 0.9525 - val_loss: 0.2577 - val_acc: 0.9230\n",
      "Epoch 14/20\n",
      "48000/48000 [==============================] - 9s 183us/step - loss: 0.1215 - acc: 0.9550 - val_loss: 0.2602 - val_acc: 0.9227\n",
      "Epoch 15/20\n",
      "48000/48000 [==============================] - 9s 182us/step - loss: 0.1079 - acc: 0.9606 - val_loss: 0.2690 - val_acc: 0.9244\n",
      "Epoch 16/20\n",
      "48000/48000 [==============================] - 9s 185us/step - loss: 0.1020 - acc: 0.9617 - val_loss: 0.2843 - val_acc: 0.9233\n",
      "Epoch 17/20\n",
      "48000/48000 [==============================] - 9s 184us/step - loss: 0.0946 - acc: 0.9645 - val_loss: 0.2883 - val_acc: 0.9257\n",
      "Epoch 18/20\n",
      "48000/48000 [==============================] - 9s 181us/step - loss: 0.0872 - acc: 0.9676 - val_loss: 0.3057 - val_acc: 0.9243\n",
      "Epoch 19/20\n",
      "48000/48000 [==============================] - 9s 182us/step - loss: 0.0810 - acc: 0.9703 - val_loss: 0.3042 - val_acc: 0.9229\n",
      "Epoch 20/20\n",
      "48000/48000 [==============================] - 9s 184us/step - loss: 0.0786 - acc: 0.9703 - val_loss: 0.3162 - val_acc: 0.9227\n"
     ]
    }
   ],
   "source": [
    "import time\n",
    "start_time = time.time()\n",
    "epochs=20\n",
    "batch_size=64\n",
    "training = model.fit(xtrain, dtrain.T,\n",
    "                     epochs=epochs,\n",
    "                     batch_size=batch_size, \n",
    "                     verbose=1, validation_split=0.2)\n",
    "training_time = time.time() - start_time"
   ]
  },
  {
   "cell_type": "code",
   "execution_count": 20,
   "metadata": {},
   "outputs": [],
   "source": [
    "import matplotlib.pyplot as plt\n",
    "plt.rcParams['figure.figsize'] = (6,6)"
   ]
  },
  {
   "cell_type": "code",
   "execution_count": 22,
   "metadata": {},
   "outputs": [
    {
     "data": {
      "image/png": "[encoded data removed]",
      "text/plain": [
       "<Figure size 432x432 with 1 Axes>"
      ]
     },
     "metadata": {},
     "output_type": "display_data"
    }
   ],
   "source": [
    "acc = training.history['acc'][0:20]\n",
    "val_acc = training.history['val_acc'][0:20]\n",
    "loss = training.history['loss'][0:20]\n",
    "val_loss = training.history['val_loss'][0:20]\n",
    "epochs = range(1, len(acc) + 1)\n",
    "\n",
    "plt.title('Training and validation accuracy')\n",
    "plt.plot(epochs, acc, 'red', label='Training acc')\n",
    "plt.plot(epochs, val_acc, 'blue', label='Validation acc')\n",
    "plt.legend()\n",
    "\n",
    "plt.show()"
   ]
  },
  {
   "cell_type": "markdown",
   "metadata": {},
   "source": [
    "#### Test data"
   ]
  },
  {
   "cell_type": "code",
   "execution_count": 72,
   "metadata": {},
   "outputs": [
    {
     "name": "stdout",
     "output_type": "stream",
     "text": [
      "10000/10000 [==============================] - 2s 185us/step\n"
     ]
    },
    {
     "data": {
      "text/plain": [
       "[0.30254612206202003, 0.9279]"
      ]
     },
     "execution_count": 72,
     "metadata": {},
     "output_type": "execute_result"
    }
   ],
   "source": [
    "model.evaluate(xtest, dtest.T)"
   ]
  },
  {
   "cell_type": "code",
   "execution_count": null,
   "metadata": {},
   "outputs": [],
   "source": []
  },
  {
   "cell_type": "code",
   "execution_count": null,
   "metadata": {},
   "outputs": [],
   "source": []
  },
  {
   "cell_type": "code",
   "execution_count": null,
   "metadata": {},
   "outputs": [],
   "source": []
  },
  {
   "cell_type": "code",
   "execution_count": null,
   "metadata": {},
   "outputs": [],
   "source": []
  },
  {
   "cell_type": "code",
   "execution_count": null,
   "metadata": {},
   "outputs": [],
   "source": []
  },
  {
   "cell_type": "code",
   "execution_count": null,
   "metadata": {},
   "outputs": [],
   "source": []
  },
  {
   "cell_type": "code",
   "execution_count": null,
   "metadata": {},
   "outputs": [],
   "source": []
  },
  {
   "cell_type": "code",
   "execution_count": null,
   "metadata": {},
   "outputs": [],
   "source": []
  },
  {
   "cell_type": "code",
   "execution_count": null,
   "metadata": {},
   "outputs": [],
   "source": []
  },
  {
   "cell_type": "code",
   "execution_count": null,
   "metadata": {},
   "outputs": [],
   "source": []
  },
  {
   "cell_type": "code",
   "execution_count": null,
   "metadata": {},
   "outputs": [],
   "source": []
  },
  {
   "cell_type": "code",
   "execution_count": null,
   "metadata": {},
   "outputs": [],
   "source": []
  },
  {
   "cell_type": "code",
   "execution_count": null,
   "metadata": {},
   "outputs": [],
   "source": []
  },
  {
   "cell_type": "code",
   "execution_count": null,
   "metadata": {},
   "outputs": [],
   "source": []
  },
  {
   "cell_type": "code",
   "execution_count": null,
   "metadata": {},
   "outputs": [],
   "source": []
  },
  {
   "cell_type": "code",
   "execution_count": null,
   "metadata": {},
   "outputs": [],
   "source": []
  },
  {
   "cell_type": "code",
   "execution_count": null,
   "metadata": {},
   "outputs": [],
   "source": []
  },
  {
   "cell_type": "code",
   "execution_count": null,
   "metadata": {},
   "outputs": [],
   "source": []
  },
  {
   "cell_type": "code",
   "execution_count": null,
   "metadata": {},
   "outputs": [],
   "source": []
  },
  {
   "cell_type": "code",
   "execution_count": null,
   "metadata": {},
   "outputs": [],
   "source": []
  },
  {
   "cell_type": "code",
   "execution_count": null,
   "metadata": {},
   "outputs": [],
   "source": []
  },
  {
   "cell_type": "code",
   "execution_count": null,
   "metadata": {},
   "outputs": [],
   "source": []
  },
  {
   "cell_type": "code",
   "execution_count": null,
   "metadata": {},
   "outputs": [],
   "source": []
  },
  {
   "cell_type": "code",
   "execution_count": null,
   "metadata": {},
   "outputs": [],
   "source": []
  },
  {
   "cell_type": "code",
   "execution_count": null,
   "metadata": {},
   "outputs": [],
   "source": []
  },
  {
   "cell_type": "code",
   "execution_count": null,
   "metadata": {},
   "outputs": [],
   "source": []
  },
  {
   "cell_type": "code",
   "execution_count": null,
   "metadata": {},
   "outputs": [],
   "source": []
  },
  {
   "cell_type": "code",
   "execution_count": null,
   "metadata": {},
   "outputs": [],
   "source": []
  }
 ],
 "metadata": {
  "kernelspec": {
   "display_name": "Python 2",
   "language": "python",
   "name": "python2"
  },
  "language_info": {
   "codemirror_mode": {
    "name": "ipython",
    "version": 2
   },
   "file_extension": ".py",
   "mimetype": "text/x-python",
   "name": "python",
   "nbconvert_exporter": "python",
   "pygments_lexer": "ipython2",
   "version": "2.7.14"
  }
 },
 "nbformat": 4,
 "nbformat_minor": 2
}
