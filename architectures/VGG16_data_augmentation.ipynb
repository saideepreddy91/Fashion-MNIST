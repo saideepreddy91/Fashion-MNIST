{
 "cells": [
  {
   "cell_type": "code",
   "execution_count": 1,
   "metadata": {},
   "outputs": [],
   "source": [
    "from __future__ import print_function\n",
    "import numpy as np\n",
    "import torch\n",
    "import torch.autograd as ag\n",
    "import mnist_reader\n",
    "import MNISTtools\n",
    "import matplotlib.pyplot as plt\n",
    "import time\n",
    "from tqdm import tqdm_notebook\n",
    "from sklearn.metrics import confusion_matrix\n",
    "import pandas as pd\n",
    "import torch.nn as nn\n",
    "import torch.nn.functional as F\n",
    "import torchvision\n",
    "import torchvision.transforms as transforms\n",
    "import data_split\n",
    "import gc\n",
    "import utils\n",
    "import copy"
   ]
  },
  {
   "cell_type": "code",
   "execution_count": 2,
   "metadata": {},
   "outputs": [],
   "source": [
    "# Can also add data augmentation transforms here\n",
    "train_transform = transforms.Compose([#transforms.Resize(224), \n",
    "                                      transforms.RandomResizedCrop(224),\n",
    "                                      transforms.RandomHorizontalFlip(),\n",
    "                                      transforms.ToTensor(), \n",
    "                                      transforms.Lambda(lambda x: torch.cat([x,x,x],0)) ])\n",
    "\n",
    "# transforms.Normalize((0.5, 0.5, 0.5), (0.5, 0.5, 0.5))   #transforms.ToPILImage(),\n",
    "test_transform = transforms.Compose([ transforms.Resize(224), \n",
    "                                     transforms.ToTensor(), transforms.Lambda(lambda x: torch.cat([x,x,x],0)) ])"
   ]
  },
  {
   "cell_type": "code",
   "execution_count": 3,
   "metadata": {},
   "outputs": [],
   "source": [
    "# print('Downloading/Checking for data......')\n",
    "trainset = torchvision.datasets.FashionMNIST(root='data/downloads', train=True,\n",
    "                                        download=True, transform=train_transform)       # download=True for the 1st time\n",
    "testset = torchvision.datasets.FashionMNIST(root='data/downloads', train=False,\n",
    "                                        download=True, transform=test_transform)        # download=True for the 1st time\n",
    "train, validation = data_split.train_valid_split(trainset)    # separates 10% for validation"
   ]
  },
  {
   "cell_type": "code",
   "execution_count": 4,
   "metadata": {},
   "outputs": [],
   "source": [
    "trainloader = torch.utils.data.DataLoader(train, batch_size=40, shuffle=True, num_workers=2)\n",
    "validloader = torch.utils.data.DataLoader(validation, batch_size=40, shuffle=False, num_workers=2)\n",
    "testloader = torch.utils.data.DataLoader(testset, batch_size=40, shuffle=False, num_workers=2)"
   ]
  },
  {
   "cell_type": "code",
   "execution_count": 5,
   "metadata": {},
   "outputs": [
    {
     "name": "stdout",
     "output_type": "stream",
     "text": [
      "# of batches in training:  1350 ,   Total train data:  54000\n",
      "# of batches in test:  250 ,   Total test data:  10000\n",
      "image size:  torch.Size([3, 224, 224])\n"
     ]
    }
   ],
   "source": [
    "print('# of batches in training: ',len(trainloader), ',   Total train data: ',len(trainloader)*40)\n",
    "print('# of batches in test: ',len(testloader), ',   Total test data: ',len(testloader)*40)\n",
    "img, label = train[100]\n",
    "print('image size: ', img.size())\n",
    "# plt.imshow(img[0,:,:], cmap='gray')\n",
    "# print(type(label))"
   ]
  },
  {
   "cell_type": "markdown",
   "metadata": {},
   "source": [
    "# Loading the VGG16 trained on imagenet"
   ]
  },
  {
   "cell_type": "code",
   "execution_count": 6,
   "metadata": {},
   "outputs": [],
   "source": [
    "vgg16 = torchvision.models.vgg16_bn(pretrained='imagenet')\n",
    "# print(vgg16.classifier[6].out_features)        # 1000, as it was trained for 1000 classes\n",
    "\n",
    "#--------------------------------------------------------------------------------------\n",
    "# REMEMBER: vgg16.features --> convolutional layers, vgg16.classifier --> FC layers\n",
    "#--------------------------------------------------------------------------------------\n",
    "\n",
    "# freeze all parameters in covolutional layers\n",
    "for parameter in vgg16.features.parameters():\n",
    "    parameter.require_grad = False\n",
    "\n",
    "in_ftrs = vgg16.classifier[6].in_features\n",
    "features = list(vgg16.classifier.children())[:-1]       # Removing last layer to add out 10 units layer\n",
    "# features.extend([nn.Linear(in_ftrs, 128), nn.ReLU(True),\\\n",
    "#                     nn.Dropout(p=0.5), nn.Linear(128,10)])      \n",
    "features.extend([nn.Linear(in_ftrs, 10)])                # adding out layer with 10 units\n",
    "vgg16.classifier = nn.Sequential(*features)             # replacing it with the model with new last layer"
   ]
  },
  {
   "cell_type": "code",
   "execution_count": 7,
   "metadata": {},
   "outputs": [],
   "source": [
    "# print(vgg16)  # prints the architecture"
   ]
  },
  {
   "cell_type": "code",
   "execution_count": 8,
   "metadata": {},
   "outputs": [],
   "source": [
    "vgg16=vgg16.cuda()"
   ]
  },
  {
   "cell_type": "code",
   "execution_count": 10,
   "metadata": {},
   "outputs": [],
   "source": [
    "def test(vgg16, dataloader, compute_loss=False, criterion=None):\n",
    "    correct = 0\n",
    "    total = 0\n",
    "    acc_test = 0.0\n",
    "    total_loss = 0.0\n",
    "    \n",
    "    vgg16.train(False)\n",
    "    vgg16.eval()    \n",
    "    for i,data in enumerate(dataloader):\n",
    "        images, labels = data\n",
    "\n",
    "        images = images.cuda()\n",
    "        labels = labels.cuda()\n",
    "\n",
    "        images = ag.Variable(images, volatile=True)\n",
    "        labels = ag.Variable(labels, volatile=True)\n",
    "\n",
    "        outputs = vgg16(images)\n",
    "        \n",
    "        if compute_loss:\n",
    "            loss = criterion(outputs, labels)\n",
    "            total_loss += loss.data[0]\n",
    "        \n",
    "        _, predicted = torch.max(outputs.data, 1)\n",
    "        acc_test += torch.sum(predicted == labels.data)\n",
    "        total += len(labels.data)\n",
    "        del outputs, predicted, images, labels\n",
    "        torch.cuda.empty_cache()\n",
    "    #     gc.collect()\n",
    "\n",
    "    print(acc_test/total)\n",
    "    # print('Test Accuracy of the model on the 10000 test images: %.4f %%' % (100 * correct / total))\n",
    "    return acc_test*1.0/total, total_loss*1.0/total"
   ]
  },
  {
   "cell_type": "code",
   "execution_count": 10,
   "metadata": {},
   "outputs": [],
   "source": [
    "# test(vgg16)"
   ]
  },
  {
   "cell_type": "code",
   "execution_count": 14,
   "metadata": {},
   "outputs": [],
   "source": [
    "def to_file(valid_accs, train_loss_list, valid_loss_list, epoch, best_epoch):\n",
    "    utils.write_list_to_file('assets/validation_accuracies.txt', valid_accs)\n",
    "    utils.write_list_to_file('assets/train_loss_list_epoch_'+str(epoch)+'.txt', train_loss_list)\n",
    "    utils.write_list_to_file('assets/validation_losses.txt', valid_loss_list)\n",
    "    utils.write_list_to_file('assets/best_epoch.txt', [best_epoch])"
   ]
  },
  {
   "cell_type": "markdown",
   "metadata": {},
   "source": [
    "# Training the model"
   ]
  },
  {
   "cell_type": "code",
   "execution_count": 12,
   "metadata": {},
   "outputs": [],
   "source": [
    "vgg16.train(True)\n",
    "# vgg16.train()\n",
    "criterion = nn.CrossEntropyLoss()\n",
    "\n",
    "optimizer = torch.optim.SGD(vgg16.parameters(), lr=0.001, momentum=0.9)\n",
    "# optimizer = torch.optim.Adam(vgg16.parameters(),lr = 0.001, weight_decay=5e-4)\n",
    "# exp_lr_scheduler = lr_scheduler.StepLR(optimizer_ft, step_size=7, gamma=0.1)"
   ]
  },
  {
   "cell_type": "code",
   "execution_count": null,
   "metadata": {},
   "outputs": [
    {
     "name": "stdout",
     "output_type": "stream",
     "text": [
      "[5,    51] loss: 0.499\n",
      "[5,   101] loss: 0.477\n",
      "[5,   201] loss: 0.471\n",
      "[5,   500] loss: 0.478\n"
     ]
    }
   ],
   "source": [
    "start=time.time()\n",
    "best_acc=0.0\n",
    "best_model=None\n",
    "best_epoch=1\n",
    "valid_accs=[]\n",
    "valid_loss_list=[]\n",
    "\n",
    "for epoch in range(4,8):  # loop over the dataset multiple times\n",
    "    vgg16.train(True)\n",
    "    running_loss = 0.0\n",
    "    train_loss_list=[]\n",
    "    \n",
    "    for i, data in enumerate(trainloader, 0):       # 0 is just to start i from 0\n",
    "        # get the inputs\n",
    "        inputs, labels = data\n",
    "        \n",
    "        inputs = ag.Variable(inputs, requires_grad = False)\n",
    "        labels = ag.Variable(labels, requires_grad = False)\n",
    "        \n",
    "        # transformations\n",
    "        if torch.cuda.is_available():\n",
    "            inputs = inputs.cuda()\n",
    "            labels = labels.cuda()\n",
    "        \n",
    "        # zero the parameter gradients\n",
    "        optimizer.zero_grad()\n",
    "\n",
    "        # forward + backward + optimize\n",
    "        outputs = vgg16(inputs)\n",
    "        \n",
    "        loss = criterion(outputs, labels)\n",
    "        loss.backward()\n",
    "        optimizer.step()\n",
    "\n",
    "        # print statistics\n",
    "        curr_loss = loss[0].data.cpu().numpy()[0]\n",
    "        # curr_loss = loss.data[0]\n",
    "        running_loss += curr_loss\n",
    "        train_loss_list.append(curr_loss)\n",
    "        # print(type(loss[0].data.cpu().numpy()[0]))\n",
    "        if i==50:\n",
    "            print('[%d, %5d] loss: %.3f' %(epoch + 1, i + 1, running_loss / 50))\n",
    "        if i==100:\n",
    "            print('[%d, %5d] loss: %.3f' %(epoch + 1, i + 1, running_loss / 100))\n",
    "        if i==200:\n",
    "            print('[%d, %5d] loss: %.3f' %(epoch + 1, i + 1, running_loss / 200))\n",
    "        \n",
    "        if i % 500 == 499:    # print every 500 mini-batches\n",
    "            print('[%d, %5d] loss: %.3f' %(epoch + 1, i + 1, running_loss / 500))\n",
    "            running_loss = 0.0\n",
    "        del inputs, labels, loss, outputs\n",
    "        torch.cuda.empty_cache()\n",
    "        \n",
    "    valid_acc, avg_valid_loss=test(vgg16, validloader,True, criterion)\n",
    "    valid_accs.append(valid_acc)\n",
    "    valid_loss_list.append(avg_valid_loss)\n",
    "    \n",
    "    if valid_acc > best_acc:                                          # check for best model\n",
    "        best_acc = valid_acc\n",
    "        best_model = copy.deepcopy(vgg16.state_dict())\n",
    "        best_epoch = epoch+1\n",
    "        torch.save(best_model, 'assets/VGG16_aug_best_model_after_3epochs.pt')      # save best model\n",
    "        \n",
    "    to_file(valid_accs, train_loss_list, valid_loss_list, epoch+1, best_epoch)\n",
    "    print('epoch: ', epoch+1)\n",
    "    print('valid acc: ', valid_acc)\n",
    "    print('Total time taken in training (secs): ',time.time()-start)\n",
    "print('Total time taken in training (secs): ',time.time()-start)\n",
    "print('Finished Training')"
   ]
  },
  {
   "cell_type": "code",
   "execution_count": null,
   "metadata": {},
   "outputs": [],
   "source": [
    "# t=str(time.strftime(\"%c\"))\n",
    "# utils.write_list_to_file('assets/list_' + str(time.strftime(\"%c\")) + '.txt', l)"
   ]
  },
  {
   "cell_type": "markdown",
   "metadata": {},
   "source": [
    "# Saving the model (very important)"
   ]
  },
  {
   "cell_type": "code",
   "execution_count": 15,
   "metadata": {},
   "outputs": [],
   "source": [
    "# torch.save(vgg16.state_dict(), 'VGG16_7epochs_40minibatch_new.pt')"
   ]
  },
  {
   "cell_type": "code",
   "execution_count": 28,
   "metadata": {},
   "outputs": [],
   "source": [
    "torch.cuda.empty_cache()"
   ]
  },
  {
   "cell_type": "markdown",
   "metadata": {},
   "source": [
    "# Load the saved model\n",
    "To load a saved model and test it on the test set"
   ]
  },
  {
   "cell_type": "code",
   "execution_count": 6,
   "metadata": {},
   "outputs": [],
   "source": [
    "# load the architecture's skeleton\n",
    "vgg16 = torchvision.models.vgg16_bn(pretrained=False)\n",
    "for parameter in vgg16.features.parameters():\n",
    "    parameter.require_grad = False\n",
    "\n",
    "in_ftrs = vgg16.classifier[6].in_features\n",
    "features = list(vgg16.classifier.children())[:-1]       # Removing last layer to add out 10 units layer\n",
    "features.extend([nn.Linear(in_ftrs, 10)])                # adding out layer with 10 units\n",
    "vgg16.classifier = nn.Sequential(*features)"
   ]
  },
  {
   "cell_type": "code",
   "execution_count": 18,
   "metadata": {},
   "outputs": [],
   "source": [
    "# # load the saved model\n",
    "vgg16.load_state_dict(torch.load('assets/VGG16_aug_best_model_after_2epochs.pt'))\n",
    "vgg16 = vgg16.cuda()"
   ]
  },
  {
   "cell_type": "code",
   "execution_count": 19,
   "metadata": {},
   "outputs": [
    {
     "name": "stdout",
     "output_type": "stream",
     "text": [
      "0.9097\n"
     ]
    },
    {
     "data": {
      "text/plain": [
       "(0.9097, 0.0)"
      ]
     },
     "execution_count": 19,
     "metadata": {},
     "output_type": "execute_result"
    }
   ],
   "source": [
    "test(vgg16, testloader)"
   ]
  },
  {
   "cell_type": "markdown",
   "metadata": {},
   "source": [
    "Training Loss"
   ]
  },
  {
   "cell_type": "code",
   "execution_count": 13,
   "metadata": {},
   "outputs": [
    {
     "data": {
      "image/png": "[encoded data removed]",
      "text/plain": [
       "<Figure size 432x288 with 1 Axes>"
      ]
     },
     "metadata": {},
     "output_type": "display_data"
    },
    {
     "data": {
      "image/png": "[encoded data removed]",
      "text/plain": [
       "<Figure size 432x288 with 1 Axes>"
      ]
     },
     "metadata": {},
     "output_type": "display_data"
    }
   ],
   "source": [
    "# plt.plot(range(len(loss_list)),loss_list)\n",
    "# # plt.subplot(1,2,1)\n",
    "# plt.xlabel(\"Batches Trained\")\n",
    "# plt.ylabel(\"Loss\")\n",
    "# plt.title(\"Training Loss\")\n",
    "# # plt.show()\n",
    "\n",
    "# avg_list = []\n",
    "# for i in range(1,len(loss_list)):\n",
    "#     avg_list.append(sum(loss_list[:i])/(1.0*len(loss_list[:i])))\n",
    "# # plt.subplot(1,2,2)\n",
    "# plt.figure()\n",
    "# plt.plot(range(len(avg_list)),avg_list)\n",
    "# plt.xlabel(\"Batches Trained\")\n",
    "# plt.ylabel(\"Average Loss\")\n",
    "# plt.title(\"Average Training Loss\")\n",
    "# plt.show()"
   ]
  }
 ],
 "metadata": {
  "kernelspec": {
   "display_name": "Python 2",
   "language": "python",
   "name": "python2"
  },
  "language_info": {
   "codemirror_mode": {
    "name": "ipython",
    "version": 2
   },
   "file_extension": ".py",
   "mimetype": "text/x-python",
   "name": "python",
   "nbconvert_exporter": "python",
   "pygments_lexer": "ipython2",
   "version": "2.7.14"
  }
 },
 "nbformat": 4,
 "nbformat_minor": 2
}
