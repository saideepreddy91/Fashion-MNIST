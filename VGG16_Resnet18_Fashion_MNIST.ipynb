{
 "cells": [
  {
   "cell_type": "code",
   "execution_count": 1,
   "metadata": {},
   "outputs": [],
   "source": [
    "from __future__ import print_function\n",
    "import numpy as np\n",
    "import torch\n",
    "import torch.autograd as ag\n",
    "from utils import mnist_reader\n",
    "import MNISTtools\n",
    "import matplotlib.pyplot as plt\n",
    "import time\n",
    "from tqdm import tqdm_notebook\n",
    "from sklearn.metrics import confusion_matrix\n",
    "import pandas as pd\n",
    "import torch.nn as nn\n",
    "import torch.nn.functional as F\n",
    "import torchvision\n",
    "import torchvision.transforms as transforms\n",
    "import data_split\n",
    "import gc\n",
    "from utils import utils\n",
    "import copy"
   ]
  },
  {
   "cell_type": "code",
   "execution_count": 2,
   "metadata": {},
   "outputs": [],
   "source": [
    "# Data transforms and augmentation \n",
    "train_transform = transforms.Compose([transforms.Resize(224), \n",
    "                                      transforms.RandomResizedCrop(224),\n",
    "                                      transforms.RandomHorizontalFlip(),\n",
    "                                      transforms.ToTensor(), \n",
    "                                      transforms.Lambda(lambda x: torch.cat([x,x,x],0)) ])\n",
    "\n",
    "test_transform = transforms.Compose([ transforms.Resize(224), \n",
    "                                     transforms.ToTensor(), transforms.Lambda(lambda x: torch.cat([x,x,x],0)) ])"
   ]
  },
  {
   "cell_type": "code",
   "execution_count": 3,
   "metadata": {},
   "outputs": [],
   "source": [
    "# print('Downloading/Checking for data......')\n",
    "trainset = torchvision.datasets.FashionMNIST(root='data/downloads', train=True,\n",
    "                                        download=True, transform=train_transform)       # download=True for the 1st time\n",
    "testset = torchvision.datasets.FashionMNIST(root='data/downloads', train=False,\n",
    "                                        download=True, transform=test_transform)        # download=True for the 1st time\n",
    "train, validation = data_split.train_valid_split(trainset)    # separates 10% for validation"
   ]
  },
  {
   "cell_type": "code",
   "execution_count": 15,
   "metadata": {},
   "outputs": [],
   "source": [
    "batch_size = 40"
   ]
  },
  {
   "cell_type": "code",
   "execution_count": 16,
   "metadata": {},
   "outputs": [],
   "source": [
    "trainloader = torch.utils.data.DataLoader(train, batch_size, shuffle=True, num_workers=2)\n",
    "validloader = torch.utils.data.DataLoader(validation, batch_size, shuffle=False, num_workers=2)\n",
    "testloader = torch.utils.data.DataLoader(testset, batch_size, shuffle=False, num_workers=2)"
   ]
  },
  {
   "cell_type": "code",
   "execution_count": 17,
   "metadata": {},
   "outputs": [
    {
     "name": "stdout",
     "output_type": "stream",
     "text": [
      "# of batches in training:  1350 ,   Total train data:  54000\n",
      "# of batches in test:  250 ,   Total test data:  10000\n"
     ]
    }
   ],
   "source": [
    "print('# of batches in training: ',len(trainloader), ',   Total train data: ',len(trainloader)*batch_size)\n",
    "print('# of batches in test: ',len(testloader), ',   Total test data: ',len(testloader)*batch_size)\n"
   ]
  },
  {
   "cell_type": "markdown",
   "metadata": {},
   "source": [
    "# Loading VGG16 (Batch Normalization) trained on imagenet"
   ]
  },
  {
   "cell_type": "code",
   "execution_count": 55,
   "metadata": {},
   "outputs": [],
   "source": [
    "model = torchvision.models.vgg16_bn(pretrained='imagenet')\n",
    "\n",
    "#--------------------------------------------------------------------------------------\n",
    "# REMEMBER: vgg16.features --> convolutional layers, vgg16.classifier --> FC layers\n",
    "#--------------------------------------------------------------------------------------\n",
    "\n",
    "# freeze all parameters in covolutional layers\n",
    "for parameter in model.features.parameters():\n",
    "    parameter.require_grad = False\n",
    "\n",
    "in_ftrs = model.classifier[6].in_features\n",
    "features = list(model.classifier.children())[:-1]       # Removing last layer to add out 10 units layer\n",
    "    \n",
    "features.extend([nn.Linear(in_ftrs, 10)])                # adding out layer with 10 units\n",
    "model.classifier = nn.Sequential(*features)             # replacing it with the model with new last layer"
   ]
  },
  {
   "cell_type": "markdown",
   "metadata": {},
   "source": [
    "# Loading  Resnet18 trained on imagenet\n"
   ]
  },
  {
   "cell_type": "code",
   "execution_count": 18,
   "metadata": {},
   "outputs": [],
   "source": [
    "model = torchvision.models.resnet18(pretrained='imagenet')\n",
    "\n",
    "in_ftrs = model.fc.in_features\n",
    "\n",
    "num_ftrs = model.fc.in_features\n",
    "\n",
    "# adding out layer with 10 units\n",
    "model.fc = nn.Linear(num_ftrs, 10)\n"
   ]
  },
  {
   "cell_type": "code",
   "execution_count": 19,
   "metadata": {},
   "outputs": [
    {
     "name": "stdout",
     "output_type": "stream",
     "text": [
      "ResNet(\n",
      "  (conv1): Conv2d(3, 64, kernel_size=(7, 7), stride=(2, 2), padding=(3, 3), bias=False)\n",
      "  (bn1): BatchNorm2d(64, eps=1e-05, momentum=0.1, affine=True)\n",
      "  (relu): ReLU(inplace)\n",
      "  (maxpool): MaxPool2d(kernel_size=(3, 3), stride=(2, 2), padding=(1, 1), dilation=(1, 1), ceil_mode=False)\n",
      "  (layer1): Sequential(\n",
      "    (0): BasicBlock(\n",
      "      (conv1): Conv2d(64, 64, kernel_size=(3, 3), stride=(1, 1), padding=(1, 1), bias=False)\n",
      "      (bn1): BatchNorm2d(64, eps=1e-05, momentum=0.1, affine=True)\n",
      "      (relu): ReLU(inplace)\n",
      "      (conv2): Conv2d(64, 64, kernel_size=(3, 3), stride=(1, 1), padding=(1, 1), bias=False)\n",
      "      (bn2): BatchNorm2d(64, eps=1e-05, momentum=0.1, affine=True)\n",
      "    )\n",
      "    (1): BasicBlock(\n",
      "      (conv1): Conv2d(64, 64, kernel_size=(3, 3), stride=(1, 1), padding=(1, 1), bias=False)\n",
      "      (bn1): BatchNorm2d(64, eps=1e-05, momentum=0.1, affine=True)\n",
      "      (relu): ReLU(inplace)\n",
      "      (conv2): Conv2d(64, 64, kernel_size=(3, 3), stride=(1, 1), padding=(1, 1), bias=False)\n",
      "      (bn2): BatchNorm2d(64, eps=1e-05, momentum=0.1, affine=True)\n",
      "    )\n",
      "  )\n",
      "  (layer2): Sequential(\n",
      "    (0): BasicBlock(\n",
      "      (conv1): Conv2d(64, 128, kernel_size=(3, 3), stride=(2, 2), padding=(1, 1), bias=False)\n",
      "      (bn1): BatchNorm2d(128, eps=1e-05, momentum=0.1, affine=True)\n",
      "      (relu): ReLU(inplace)\n",
      "      (conv2): Conv2d(128, 128, kernel_size=(3, 3), stride=(1, 1), padding=(1, 1), bias=False)\n",
      "      (bn2): BatchNorm2d(128, eps=1e-05, momentum=0.1, affine=True)\n",
      "      (downsample): Sequential(\n",
      "        (0): Conv2d(64, 128, kernel_size=(1, 1), stride=(2, 2), bias=False)\n",
      "        (1): BatchNorm2d(128, eps=1e-05, momentum=0.1, affine=True)\n",
      "      )\n",
      "    )\n",
      "    (1): BasicBlock(\n",
      "      (conv1): Conv2d(128, 128, kernel_size=(3, 3), stride=(1, 1), padding=(1, 1), bias=False)\n",
      "      (bn1): BatchNorm2d(128, eps=1e-05, momentum=0.1, affine=True)\n",
      "      (relu): ReLU(inplace)\n",
      "      (conv2): Conv2d(128, 128, kernel_size=(3, 3), stride=(1, 1), padding=(1, 1), bias=False)\n",
      "      (bn2): BatchNorm2d(128, eps=1e-05, momentum=0.1, affine=True)\n",
      "    )\n",
      "  )\n",
      "  (layer3): Sequential(\n",
      "    (0): BasicBlock(\n",
      "      (conv1): Conv2d(128, 256, kernel_size=(3, 3), stride=(2, 2), padding=(1, 1), bias=False)\n",
      "      (bn1): BatchNorm2d(256, eps=1e-05, momentum=0.1, affine=True)\n",
      "      (relu): ReLU(inplace)\n",
      "      (conv2): Conv2d(256, 256, kernel_size=(3, 3), stride=(1, 1), padding=(1, 1), bias=False)\n",
      "      (bn2): BatchNorm2d(256, eps=1e-05, momentum=0.1, affine=True)\n",
      "      (downsample): Sequential(\n",
      "        (0): Conv2d(128, 256, kernel_size=(1, 1), stride=(2, 2), bias=False)\n",
      "        (1): BatchNorm2d(256, eps=1e-05, momentum=0.1, affine=True)\n",
      "      )\n",
      "    )\n",
      "    (1): BasicBlock(\n",
      "      (conv1): Conv2d(256, 256, kernel_size=(3, 3), stride=(1, 1), padding=(1, 1), bias=False)\n",
      "      (bn1): BatchNorm2d(256, eps=1e-05, momentum=0.1, affine=True)\n",
      "      (relu): ReLU(inplace)\n",
      "      (conv2): Conv2d(256, 256, kernel_size=(3, 3), stride=(1, 1), padding=(1, 1), bias=False)\n",
      "      (bn2): BatchNorm2d(256, eps=1e-05, momentum=0.1, affine=True)\n",
      "    )\n",
      "  )\n",
      "  (layer4): Sequential(\n",
      "    (0): BasicBlock(\n",
      "      (conv1): Conv2d(256, 512, kernel_size=(3, 3), stride=(2, 2), padding=(1, 1), bias=False)\n",
      "      (bn1): BatchNorm2d(512, eps=1e-05, momentum=0.1, affine=True)\n",
      "      (relu): ReLU(inplace)\n",
      "      (conv2): Conv2d(512, 512, kernel_size=(3, 3), stride=(1, 1), padding=(1, 1), bias=False)\n",
      "      (bn2): BatchNorm2d(512, eps=1e-05, momentum=0.1, affine=True)\n",
      "      (downsample): Sequential(\n",
      "        (0): Conv2d(256, 512, kernel_size=(1, 1), stride=(2, 2), bias=False)\n",
      "        (1): BatchNorm2d(512, eps=1e-05, momentum=0.1, affine=True)\n",
      "      )\n",
      "    )\n",
      "    (1): BasicBlock(\n",
      "      (conv1): Conv2d(512, 512, kernel_size=(3, 3), stride=(1, 1), padding=(1, 1), bias=False)\n",
      "      (bn1): BatchNorm2d(512, eps=1e-05, momentum=0.1, affine=True)\n",
      "      (relu): ReLU(inplace)\n",
      "      (conv2): Conv2d(512, 512, kernel_size=(3, 3), stride=(1, 1), padding=(1, 1), bias=False)\n",
      "      (bn2): BatchNorm2d(512, eps=1e-05, momentum=0.1, affine=True)\n",
      "    )\n",
      "  )\n",
      "  (avgpool): AvgPool2d(kernel_size=7, stride=1, padding=0, ceil_mode=False, count_include_pad=True)\n",
      "  (fc): Linear(in_features=512, out_features=10, bias=True)\n",
      ")\n"
     ]
    }
   ],
   "source": [
    "print(model)"
   ]
  },
  {
   "cell_type": "code",
   "execution_count": 20,
   "metadata": {},
   "outputs": [],
   "source": [
    "model = model.cuda()"
   ]
  },
  {
   "cell_type": "code",
   "execution_count": 21,
   "metadata": {},
   "outputs": [],
   "source": [
    "def test(model, dataloader, compute_loss=False, criterion=None):\n",
    "    correct = 0\n",
    "    total = 0\n",
    "    acc_test = 0.0\n",
    "    total_loss = 0.0\n",
    "    \n",
    "    model.train(False)\n",
    "    model.eval()    \n",
    "    for i,data in enumerate(dataloader):\n",
    "        images, labels = data\n",
    "\n",
    "        images = images.cuda()\n",
    "        labels = labels.cuda()\n",
    "\n",
    "        images = ag.Variable(images, volatile=True)\n",
    "        labels = ag.Variable(labels, volatile=True)\n",
    "\n",
    "        outputs = model(images)\n",
    "        \n",
    "        if compute_loss:\n",
    "            loss = criterion(outputs, labels)\n",
    "            total_loss += loss.data[0]\n",
    "        \n",
    "        _, predicted = torch.max(outputs.data, 1)\n",
    "        acc_test += torch.sum(predicted == labels.data)\n",
    "        total += len(labels.data)\n",
    "        del outputs, predicted, images, labels\n",
    "        torch.cuda.empty_cache()\n",
    "   \n",
    "    return acc_test*1.0/total, total_loss*1.0/total"
   ]
  },
  {
   "cell_type": "code",
   "execution_count": 11,
   "metadata": {},
   "outputs": [
    {
     "data": {
      "text/plain": [
       "(0.17, 0.0)"
      ]
     },
     "execution_count": 11,
     "metadata": {},
     "output_type": "execute_result"
    }
   ],
   "source": [
    "test(model,testloader)"
   ]
  },
  {
   "cell_type": "code",
   "execution_count": 22,
   "metadata": {},
   "outputs": [],
   "source": [
    "def to_file(valid_accs, train_loss_list, valid_loss_list, epoch, best_epoch):\n",
    "    utils.write_list_to_file('assets/validation_accuracies.txt', valid_accs)\n",
    "    utils.write_list_to_file('assets/train_loss_list_epoch_'+str(epoch)+'.txt', train_loss_list)\n",
    "    utils.write_list_to_file('assets/validation_losses.txt', valid_loss_list)\n",
    "    utils.write_list_to_file('assets/best_epoch.txt', [best_epoch])"
   ]
  },
  {
   "cell_type": "markdown",
   "metadata": {},
   "source": [
    "# Training the model"
   ]
  },
  {
   "cell_type": "code",
   "execution_count": 23,
   "metadata": {},
   "outputs": [],
   "source": [
    "model.train(True)\n",
    "criterion = nn.CrossEntropyLoss()\n",
    "\n",
    "optimizer = torch.optim.SGD(model.parameters(), lr=0.001, momentum=0.9)\n"
   ]
  },
  {
   "cell_type": "code",
   "execution_count": 24,
   "metadata": {},
   "outputs": [
    {
     "name": "stdout",
     "output_type": "stream",
     "text": [
      "epoch:  1\n",
      "valid acc:  0.6785\n",
      "Total time taken in training (secs):  72.7309889793\n",
      "epoch:  2\n",
      "valid acc:  0.724833333333\n",
      "Total time taken in training (secs):  144.700852156\n",
      "epoch:  3\n",
      "valid acc:  0.747666666667\n",
      "Total time taken in training (secs):  217.10985899\n",
      "epoch:  4\n",
      "valid acc:  0.769666666667\n",
      "Total time taken in training (secs):  289.387372017\n",
      "epoch:  5\n",
      "valid acc:  0.7755\n",
      "Total time taken in training (secs):  363.025156975\n",
      "epoch:  6\n",
      "valid acc:  0.785\n",
      "Total time taken in training (secs):  435.338663101\n",
      "epoch:  7\n",
      "valid acc:  0.790666666667\n",
      "Total time taken in training (secs):  507.559953928\n",
      "epoch:  8\n",
      "valid acc:  0.7905\n",
      "Total time taken in training (secs):  579.053056002\n",
      "epoch:  9\n",
      "valid acc:  0.808333333333\n",
      "Total time taken in training (secs):  650.862923145\n",
      "epoch:  10\n",
      "valid acc:  0.789666666667\n",
      "Total time taken in training (secs):  722.949348927\n",
      "epoch:  11\n",
      "valid acc:  0.816\n",
      "Total time taken in training (secs):  795.95036602\n",
      "epoch:  12\n",
      "valid acc:  0.821333333333\n",
      "Total time taken in training (secs):  868.213171959\n",
      "epoch:  13\n",
      "valid acc:  0.821166666667\n",
      "Total time taken in training (secs):  940.70184803\n",
      "epoch:  14\n",
      "valid acc:  0.820333333333\n",
      "Total time taken in training (secs):  1013.92365193\n",
      "epoch:  15\n",
      "valid acc:  0.815666666667\n",
      "Total time taken in training (secs):  1087.542099\n",
      "epoch:  16\n",
      "valid acc:  0.814833333333\n",
      "Total time taken in training (secs):  1159.8828721\n",
      "epoch:  17\n",
      "valid acc:  0.820666666667\n",
      "Total time taken in training (secs):  1233.02838898\n",
      "epoch:  18\n",
      "valid acc:  0.832833333333\n",
      "Total time taken in training (secs):  1305.94655204\n",
      "epoch:  19\n",
      "valid acc:  0.831166666667\n",
      "Total time taken in training (secs):  1377.94682908\n",
      "epoch:  20\n",
      "valid acc:  0.820333333333\n",
      "Total time taken in training (secs):  1449.8441\n",
      "epoch:  21\n",
      "valid acc:  0.822166666667\n",
      "Total time taken in training (secs):  1521.60169196\n",
      "epoch:  22\n",
      "valid acc:  0.825333333333\n",
      "Total time taken in training (secs):  1593.30321908\n",
      "epoch:  23\n",
      "valid acc:  0.839666666667\n",
      "Total time taken in training (secs):  1665.78640699\n",
      "epoch:  24\n",
      "valid acc:  0.838833333333\n",
      "Total time taken in training (secs):  1738.82155108\n",
      "epoch:  25\n",
      "valid acc:  0.838833333333\n",
      "Total time taken in training (secs):  1811.4243021\n",
      "Finished Training\n"
     ]
    }
   ],
   "source": [
    "start=time.time()\n",
    "best_acc=0.0\n",
    "best_model=None\n",
    "best_epoch=1\n",
    "valid_accs=[]\n",
    "valid_loss_list=[]\n",
    "loss_list = []\n",
    "\n",
    "for epoch in range(25):  # loop over the dataset multiple times\n",
    "    model.train(True)\n",
    "    running_loss = 0.0\n",
    "    train_loss_list=[]\n",
    "    \n",
    "    for i, data in enumerate(trainloader, 0):       # 0 is just to start i from 0\n",
    "        \n",
    "        # 10% of the dataset \n",
    "        if(i> len(trainloader)/10):\n",
    "            break\n",
    "\n",
    "        # get the inputs\n",
    "        inputs, labels = data\n",
    "        \n",
    "        inputs = ag.Variable(inputs, requires_grad = False)\n",
    "        labels = ag.Variable(labels, requires_grad = False)\n",
    "        \n",
    "        # transformations\n",
    "        if torch.cuda.is_available():\n",
    "            inputs = inputs.cuda()\n",
    "            labels = labels.cuda()\n",
    "        \n",
    "        # zero the parameter gradients\n",
    "        optimizer.zero_grad()\n",
    "\n",
    "        # forward + backward + optimize\n",
    "        outputs = model(inputs)\n",
    "        \n",
    "        loss = criterion(outputs, labels)\n",
    "        loss.backward()\n",
    "        optimizer.step()\n",
    "\n",
    "        running_loss += loss\n",
    "        train_loss_list.append(loss)\n",
    "        \n",
    "        del inputs, labels, loss, outputs\n",
    "        torch.cuda.empty_cache()\n",
    "        \n",
    "    valid_acc, avg_valid_loss=test(model, validloader,True, criterion)\n",
    "    valid_accs.append(valid_acc)\n",
    "    valid_loss_list.append(avg_valid_loss)\n",
    "    \n",
    "    if valid_acc > best_acc:                                          # check for best model\n",
    "        best_acc = valid_acc\n",
    "        best_model = copy.deepcopy(model.state_dict())\n",
    "        best_epoch = epoch+1\n",
    "        torch.save(best_model, 'assets/Resnet_best_model.pt')      # save best model\n",
    "        \n",
    "    to_file(valid_accs, train_loss_list, valid_loss_list, epoch+1, best_epoch)\n",
    "    loss_list+=train_loss_list\n",
    "    \n",
    "    print('epoch: ', epoch+1)\n",
    "    print('valid acc: ', valid_acc)\n",
    "    print('Total time taken in training (secs): ',time.time()-start)\n",
    "\n",
    "print('Finished Training')"
   ]
  },
  {
   "cell_type": "markdown",
   "metadata": {},
   "source": [
    "# Saving the model (very important)"
   ]
  },
  {
   "cell_type": "code",
   "execution_count": 86,
   "metadata": {},
   "outputs": [],
   "source": [
    "torch.save(model.state_dict(), 'ResNet_10%.pt')"
   ]
  },
  {
   "cell_type": "code",
   "execution_count": 87,
   "metadata": {},
   "outputs": [],
   "source": [
    "torch.cuda.empty_cache()"
   ]
  },
  {
   "cell_type": "markdown",
   "metadata": {},
   "source": [
    "# Load the saved model\n",
    "To load a saved model and test it on the test set"
   ]
  },
  {
   "cell_type": "code",
   "execution_count": 6,
   "metadata": {},
   "outputs": [],
   "source": [
    "# load the architecture's skeleton for VGG-16\n",
    "\n",
    "model = torchvision.models.vgg16_bn(pretrained=False)\n",
    "for parameter in model.features.parameters():\n",
    "    parameter.require_grad = False\n",
    "\n",
    "in_ftrs = model.classifier[6].in_features\n",
    "features = list(model.classifier.children())[:-1]       # Removing last layer to add out 10 units layer\n",
    "features.extend([nn.Linear(in_ftrs, 10)])                # adding out layer with 10 units\n",
    "model.classifier = nn.Sequential(*features)"
   ]
  },
  {
   "cell_type": "code",
   "execution_count": 88,
   "metadata": {},
   "outputs": [],
   "source": [
    "# load the architecture's skeleton for Resnet-18\n",
    "\n",
    "model = torchvision.models.resnet18(pretrained=False)\n",
    "in_ftrs = model.fc.in_features\n",
    "num_ftrs = model.fc.in_features\n",
    "model.fc = nn.Linear(num_ftrs, 10)\n"
   ]
  },
  {
   "cell_type": "code",
   "execution_count": 105,
   "metadata": {},
   "outputs": [],
   "source": [
    "# # load the saved model\n",
    "model.load_state_dict(torch.load('ResNet_10%.pt'))\n",
    "model = model.cuda()"
   ]
  },
  {
   "cell_type": "code",
   "execution_count": 106,
   "metadata": {},
   "outputs": [
    {
     "data": {
      "text/plain": [
       "(0.9033, 0.0)"
      ]
     },
     "execution_count": 106,
     "metadata": {},
     "output_type": "execute_result"
    }
   ],
   "source": [
    "test(model, testloader)"
   ]
  },
  {
   "cell_type": "markdown",
   "metadata": {},
   "source": [
    "## Plotting Validation Loss/ Training Loss/ Validation Accuracy"
   ]
  },
  {
   "cell_type": "code",
   "execution_count": 100,
   "metadata": {
    "scrolled": true
   },
   "outputs": [
    {
     "data": {
      "image/png": "[encoded data removed]",
      "text/plain": [
       "<Figure size 432x288 with 1 Axes>"
      ]
     },
     "metadata": {},
     "output_type": "display_data"
    }
   ],
   "source": [
    "import seaborn as sns\n",
    "sns.set()\n",
    "\n",
    "list_temp = []\n",
    "for i in range(len(loss_list)):\n",
    "    list_temp.append(loss_list[i].data.cpu().numpy())\n",
    "    \n",
    "\n",
    "avg_list = []\n",
    "for i in range(1,len(list_temp)):\n",
    "    avg_list.append(sum(list_temp[:i])/(1.0*len(list_temp[:i])))\n",
    "\n",
    "plt.plot(range(len(valid_loss_list)),valid_loss_list, 'r')\n",
    "plt.xlabel(\"Number of Epochs\")\n",
    "plt.ylabel(\"Average Loss\")\n",
    "plt.title(\"Average Validation Loss ResNet-18 (10% of Data)\")\n",
    "plt.show()\n"
   ]
  },
  {
   "cell_type": "code",
   "execution_count": 101,
   "metadata": {
    "scrolled": true
   },
   "outputs": [
    {
     "data": {
      "image/png": "[encoded data removed]",
      "text/plain": [
       "<Figure size 432x288 with 1 Axes>"
      ]
     },
     "metadata": {},
     "output_type": "display_data"
    }
   ],
   "source": [
    "\n",
    "plt.plot(range(len(avg_list)),avg_list)\n",
    "plt.xlabel(\"Batches Trained\")\n",
    "plt.ylabel(\"Average Loss\")\n",
    "plt.title(\"Average Training Loss ResNet-18 (10% of Data)\")\n",
    "plt.show()"
   ]
  },
  {
   "cell_type": "code",
   "execution_count": 31,
   "metadata": {},
   "outputs": [
    {
     "data": {
      "image/png": "[encoded data removed]",
      "text/plain": [
       "<Figure size 432x288 with 1 Axes>"
      ]
     },
     "metadata": {},
     "output_type": "display_data"
    }
   ],
   "source": [
    "plt.plot(range(len(valid_accs)),valid_accs, 'g')\n",
    "plt.xlabel(\"Number of Epochs\")\n",
    "plt.ylabel(\"Accuracy\")\n",
    "plt.title(\"Validation Set Accuracy ResNet-18 (10% of Data)\")\n",
    "plt.show()"
   ]
  }
 ],
 "metadata": {
  "kernelspec": {
   "display_name": "Python 2",
   "language": "python",
   "name": "python2"
  },
  "language_info": {
   "codemirror_mode": {
    "name": "ipython",
    "version": 2
   },
   "file_extension": ".py",
   "mimetype": "text/x-python",
   "name": "python",
   "nbconvert_exporter": "python",
   "pygments_lexer": "ipython2",
   "version": "2.7.14"
  }
 },
 "nbformat": 4,
 "nbformat_minor": 2
}
