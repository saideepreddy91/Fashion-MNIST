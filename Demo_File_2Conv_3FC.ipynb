{
 "cells": [
  {
   "cell_type": "code",
   "execution_count": 1,
   "metadata": {},
   "outputs": [
    {
     "name": "stderr",
     "output_type": "stream",
     "text": [
      "/opt/conda/lib/python2.7/site-packages/h5py/__init__.py:36: FutureWarning: Conversion of the second argument of issubdtype from `float` to `np.floating` is deprecated. In future, it will be treated as `np.float64 == np.dtype(float).type`.\n",
      "  from ._conv import register_converters as _register_converters\n",
      "Using TensorFlow backend.\n"
     ]
    }
   ],
   "source": [
    "import imageio\n",
    "import keras\n",
    "from keras.models import load_model\n",
    "import tools\n",
    "import tensorflow as tf\n",
    "import numpy as np\n",
    "from matplotlib import pyplot\n",
    "#config = tf.ConfigProto( device_count = {'GPU': 1 , 'CPU': 56} ) \n",
    "#sess = tf.Session(config=config) \n",
    "#keras.backend.set_session(sess)\n",
    "\n",
    "\n",
    "def normalize_MNIST_images(x):\n",
    "    x = x.astype('float64')\n",
    "    x = x*((2.0/255))-1\n",
    "    return x"
   ]
  },
  {
   "cell_type": "code",
   "execution_count": 2,
   "metadata": {},
   "outputs": [],
   "source": [
    "net_1 = load_model('./models/net_1.h5')\n",
    "net_2 = load_model('./models/net_2.h5')\n",
    "net_3 = load_model('./models/net_3.h5')\n"
   ]
  },
  {
   "cell_type": "code",
   "execution_count": 3,
   "metadata": {},
   "outputs": [],
   "source": [
    "xtrain,ltrain = tools.load(dataset = \"training\", path = \"./FashionMNIST\")\n",
    "xtest, ltest  = tools.load(dataset = \"testing\",  path = \"./FashionMNIST\")\n",
    "test=xtrain[:,9]\n",
    "test=test.reshape(28, 28)\n",
    "import png\n",
    "f = open('./models/ramp.png', 'wb')      # binary mode is important\n",
    "w = png.Writer(28, 28, greyscale=True)\n",
    "w.write(f, test)\n",
    "f.close()"
   ]
  },
  {
   "cell_type": "code",
   "execution_count": 4,
   "metadata": {},
   "outputs": [
    {
     "data": {
      "text/plain": [
       "(28, 28)"
      ]
     },
     "execution_count": 4,
     "metadata": {},
     "output_type": "execute_result"
    }
   ],
   "source": [
    "im = imageio.imread('./models/ramp.png')\n",
    "im.shape"
   ]
  },
  {
   "cell_type": "code",
   "execution_count": 5,
   "metadata": {},
   "outputs": [
    {
     "data": {
      "image/png": "[encoded data removed]",
      "text/plain": [
       "<Figure size 432x288 with 1 Axes>"
      ]
     },
     "metadata": {},
     "output_type": "display_data"
    }
   ],
   "source": [
    "tools.show (im)"
   ]
  },
  {
   "cell_type": "code",
   "execution_count": 6,
   "metadata": {},
   "outputs": [],
   "source": [
    "label_dict={0: 'T-shirt/top',1: 'Trouser',2: 'Pullover',3: 'Dress',4: 'Coat',5: 'Sandal',6: 'Shirt',7: 'Sneaker',8: 'Bag',9:'Ankle boot' }\n",
    "test_normalized = normalize_MNIST_images(im)\n",
    "test_final = test_normalized.reshape(1,28,28,1)"
   ]
  },
  {
   "cell_type": "code",
   "execution_count": 7,
   "metadata": {},
   "outputs": [],
   "source": [
    "def test_on_image(image =test_final ,model_1=net_1,model_2=net_2,model_3=net_3):\n",
    "    pred1 = model_1.predict(image)\n",
    "    pred2 = model_2.predict(image)\n",
    "    pred3 = model_3.predict(image)\n",
    "    predCombined=(pred1+pred2+pred3).T.argmax(axis=0)\n",
    "    print(label_dict[predCombined[0]])"
   ]
  },
  {
   "cell_type": "code",
   "execution_count": 8,
   "metadata": {},
   "outputs": [
    {
     "name": "stdout",
     "output_type": "stream",
     "text": [
      "Sandal\n"
     ]
    }
   ],
   "source": [
    "test_on_image()"
   ]
  },
  {
   "cell_type": "code",
   "execution_count": null,
   "metadata": {},
   "outputs": [],
   "source": []
  }
 ],
 "metadata": {
  "kernelspec": {
   "display_name": "Python 2",
   "language": "python",
   "name": "python2"
  },
  "language_info": {
   "codemirror_mode": {
    "name": "ipython",
    "version": 2
   },
   "file_extension": ".py",
   "mimetype": "text/x-python",
   "name": "python",
   "nbconvert_exporter": "python",
   "pygments_lexer": "ipython2",
   "version": "2.7.14"
  }
 },
 "nbformat": 4,
 "nbformat_minor": 2
}
